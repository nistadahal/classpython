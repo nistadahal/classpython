{
 "cells": [
  {
   "cell_type": "code",
   "execution_count": 4,
   "id": "c51d9b38",
   "metadata": {},
   "outputs": [
    {
     "name": "stdout",
     "output_type": "stream",
     "text": [
      "Enter a = 10\n",
      "Enter b = 0\n",
      "Enter + - * /\n",
      "Invalid operator\n"
     ]
    }
   ],
   "source": [
    "a=int(input(\"Enter a = \"))\n",
    "b=int(input(\"Enter b = \"))\n",
    "o=input(\"Enter + - * /\")\n",
    "if o==\"+\":\n",
    "   print(a+b)\n",
    "elif o == \"-\":\n",
    "      print(a-b)\n",
    "elif o == \"*\":\n",
    "      print(a*b)\n",
    "elif o == \"/\":\n",
    "      print(a/b)\n",
    "else:\n",
    "      print(\"Invalid operator\")\n",
    "      \n",
    "      \n",
    "      "
   ]
  },
  {
   "cell_type": "code",
   "execution_count": 5,
   "id": "f4607cfe",
   "metadata": {},
   "outputs": [
    {
     "ename": "SyntaxError",
     "evalue": "invalid syntax (1819256167.py, line 1)",
     "output_type": "error",
     "traceback": [
      "\u001b[1;36m  Input \u001b[1;32mIn [5]\u001b[1;36m\u001b[0m\n\u001b[1;33m    and &\u001b[0m\n\u001b[1;37m    ^\u001b[0m\n\u001b[1;31mSyntaxError\u001b[0m\u001b[1;31m:\u001b[0m invalid syntax\n"
     ]
    }
   ],
   "source": [
    "and &\n",
    "\n",
    "or |"
   ]
  },
  {
   "cell_type": "code",
   "execution_count": 6,
   "id": "fe68c86e",
   "metadata": {},
   "outputs": [
    {
     "data": {
      "text/plain": [
       "False"
      ]
     },
     "execution_count": 6,
     "metadata": {},
     "output_type": "execute_result"
    }
   ],
   "source": [
    "True and False "
   ]
  },
  {
   "cell_type": "code",
   "execution_count": 7,
   "id": "a5c7e7ff",
   "metadata": {},
   "outputs": [
    {
     "data": {
      "text/plain": [
       "True"
      ]
     },
     "execution_count": 7,
     "metadata": {},
     "output_type": "execute_result"
    }
   ],
   "source": [
    "True or False "
   ]
  },
  {
   "cell_type": "code",
   "execution_count": 9,
   "id": "e72d790b",
   "metadata": {},
   "outputs": [
    {
     "ename": "SyntaxError",
     "evalue": "invalid syntax (1609865923.py, line 10)",
     "output_type": "error",
     "traceback": [
      "\u001b[1;36m  Input \u001b[1;32mIn [9]\u001b[1;36m\u001b[0m\n\u001b[1;33m    elif o == \"/\": and (b !=0):\u001b[0m\n\u001b[1;37m                   ^\u001b[0m\n\u001b[1;31mSyntaxError\u001b[0m\u001b[1;31m:\u001b[0m invalid syntax\n"
     ]
    }
   ],
   "source": [
    "a=int(input(\"Enter a = \"))\n",
    "b=int(input(\"Enter b = \"))\n",
    "o=input(\"Enter + - * /\")\n",
    "if o==\"+\":\n",
    "   print(a+b)\n",
    "elif o == \"-\":\n",
    "      print(a-b)\n",
    "elif o == \"*\":\n",
    "      print(a*b)\n",
    "elif o == \"/\": and (b !=0):\n",
    "      print(a/b)\n",
    "elif (o ==\"/\") and b (b ==0):\n",
    "    print (\"The value of b can not be 0\")\n",
    "else:\n",
    "      print(\"Invalid operator\")\n",
    "      \n",
    "      \n",
    "      "
   ]
  },
  {
   "cell_type": "code",
   "execution_count": 10,
   "id": "24ec8d0a",
   "metadata": {},
   "outputs": [
    {
     "name": "stdout",
     "output_type": "stream",
     "text": [
      "Enter n =-1\n",
      "Both condition are not equal\n"
     ]
    }
   ],
   "source": [
    "n= int(input(\"Enter n =\"))\n",
    "if n>0 and n%2==0:\n",
    "    print(\"The value of n is even and greater than o\")\n",
    "else:\n",
    "    print(\"Both condition are not equal\")\n",
    "    "
   ]
  },
  {
   "cell_type": "code",
   "execution_count": null,
   "id": "61104719",
   "metadata": {},
   "outputs": [],
   "source": [
    "n= int(input(\"Enter n=\"))\n",
    "if n>0 and n%2==0:\n",
    "    print(\"The value of n is even and greater than 0\")\n",
    "elif n<0 or n%2==0:\n",
    "    print(\"The no is -ve and even\")\n",
    "elif n>0 or n%2!=0:\n",
    "    print(\"The no is +ve and odd\")\n",
    "else:\n",
    "    print(\"Both condition are not true\")"
   ]
  },
  {
   "cell_type": "code",
   "execution_count": null,
   "id": "b9380a52",
   "metadata": {},
   "outputs": [],
   "source": [
    "# # Nestied if \n",
    "# if <condition>:\n",
    "#     if<condition>\n",
    "#     else:\n",
    "#         <condition>\n",
    "        \n",
    "# else:\n",
    "#     <operation>"
   ]
  },
  {
   "cell_type": "code",
   "execution_count": null,
   "id": "66cb6a78",
   "metadata": {},
   "outputs": [],
   "source": [
    "n = int(input(\"Enter n = \"))\n",
    "if n > 0\n",
    "   if n%2 == 0:\n",
    "        print(\"The n is even and +ve\")\n",
    "    else:\n",
    "        print(\"The n is +ve but odd \")\n",
    "        \n",
    "else:\n",
    "    print(\"The n is -ve\")"
   ]
  },
  {
   "cell_type": "code",
   "execution_count": null,
   "id": "ec8b53ab",
   "metadata": {},
   "outputs": [],
   "source": []
  }
 ],
 "metadata": {
  "kernelspec": {
   "display_name": "Python 3 (ipykernel)",
   "language": "python",
   "name": "python3"
  },
  "language_info": {
   "codemirror_mode": {
    "name": "ipython",
    "version": 3
   },
   "file_extension": ".py",
   "mimetype": "text/x-python",
   "name": "python",
   "nbconvert_exporter": "python",
   "pygments_lexer": "ipython3",
   "version": "3.9.12"
  }
 },
 "nbformat": 4,
 "nbformat_minor": 5
}
