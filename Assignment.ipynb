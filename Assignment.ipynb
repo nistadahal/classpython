{
 "cells": [
  {
   "cell_type": "code",
   "execution_count": null,
   "id": "dec99da0",
   "metadata": {},
   "outputs": [],
   "source": [
    "Assignment "
   ]
  },
  {
   "cell_type": "code",
   "execution_count": 3,
   "id": "e4af1fbd",
   "metadata": {},
   "outputs": [
    {
     "name": "stdout",
     "output_type": "stream",
     "text": [
      "e\n",
      "l\n"
     ]
    }
   ],
   "source": [
    "w = \"welcome to nepal\"\n",
    "print(w[6])\n",
    "\n",
    "print(w[-1])"
   ]
  },
  {
   "cell_type": "code",
   "execution_count": 7,
   "id": "b23300b0",
   "metadata": {
    "scrolled": true
   },
   "outputs": [
    {
     "name": "stdout",
     "output_type": "stream",
     "text": [
      "welcome\n"
     ]
    }
   ],
   "source": [
    "w = \"welcome to nepal\"\n",
    "print (w[0:7])"
   ]
  },
  {
   "cell_type": "markdown",
   "id": "3f2b5a8f",
   "metadata": {},
   "source": []
  },
  {
   "cell_type": "code",
   "execution_count": 12,
   "id": "aa97d172",
   "metadata": {},
   "outputs": [
    {
     "name": "stdout",
     "output_type": "stream",
     "text": [
      "welcome to nepal\n",
      "l\n",
      "welcome to nepa\n",
      "wloet ea\n"
     ]
    }
   ],
   "source": [
    "w = \"welcome to nepal\"\n",
    "print (w[0:16])\n",
    "print(w[2])\n",
    "print(w[0:-1]) \n",
    "print (w[0::2])"
   ]
  },
  {
   "cell_type": "code",
   "execution_count": 1,
   "id": "3dc5f1c2",
   "metadata": {},
   "outputs": [
    {
     "name": "stdout",
     "output_type": "stream",
     "text": [
      "Hello\n",
      " World\n"
     ]
    }
   ],
   "source": [
    "a = \"Hello World\"\n",
    "b = a[:5]\n",
    "c = a[5:]\n",
    "print(b)\n",
    "print(c)"
   ]
  },
  {
   "cell_type": "code",
   "execution_count": 3,
   "id": "7fbe63e7",
   "metadata": {},
   "outputs": [
    {
     "name": "stdout",
     "output_type": "stream",
     "text": [
      " World\n",
      "Hello\n"
     ]
    }
   ],
   "source": [
    "a = \"Hello World\"\n",
    "b = a[5:]\n",
    "c = a[:5]\n",
    "print(b)\n",
    "print(c)"
   ]
  },
  {
   "cell_type": "code",
   "execution_count": 10,
   "id": "7f701b1f",
   "metadata": {},
   "outputs": [
    {
     "name": "stdout",
     "output_type": "stream",
     "text": [
      " World\n",
      "llo World\n"
     ]
    }
   ],
   "source": [
    "a = \"Hello World\"\n",
    "b = a[5:]\n",
    "c = a[2:]\n",
    "\n",
    "print(b)\n",
    "print(c)"
   ]
  },
  {
   "cell_type": "code",
   "execution_count": null,
   "id": "9b68885b",
   "metadata": {},
   "outputs": [],
   "source": []
  }
 ],
 "metadata": {
  "kernelspec": {
   "display_name": "Python 3 (ipykernel)",
   "language": "python",
   "name": "python3"
  },
  "language_info": {
   "codemirror_mode": {
    "name": "ipython",
    "version": 3
   },
   "file_extension": ".py",
   "mimetype": "text/x-python",
   "name": "python",
   "nbconvert_exporter": "python",
   "pygments_lexer": "ipython3",
   "version": "3.9.12"
  }
 },
 "nbformat": 4,
 "nbformat_minor": 5
}
