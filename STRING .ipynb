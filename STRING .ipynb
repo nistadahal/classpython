{
 "cells": [
  {
   "cell_type": "code",
   "execution_count": 1,
   "id": "199d2296",
   "metadata": {},
   "outputs": [
    {
     "name": "stdout",
     "output_type": "stream",
     "text": [
      "<class 'str'>\n",
      "<class 'str'>\n",
      "<class 'str'>\n"
     ]
    }
   ],
   "source": [
    "a = 'pyrhon'\n",
    "b = \"python\"\n",
    "c = '''python'''\n",
    "print(type(a))\n",
    "print(type(b))\n",
    "print(type(c))"
   ]
  },
  {
   "cell_type": "code",
   "execution_count": 2,
   "id": "f6c51f29",
   "metadata": {},
   "outputs": [
    {
     "data": {
      "text/plain": [
       "str"
      ]
     },
     "execution_count": 2,
     "metadata": {},
     "output_type": "execute_result"
    }
   ],
   "source": [
    "a = '''Ram said \"He is good teacher\" '''\n",
    "type(a)"
   ]
  },
  {
   "cell_type": "code",
   "execution_count": 4,
   "id": "54c3e9d4",
   "metadata": {},
   "outputs": [
    {
     "name": "stdout",
     "output_type": "stream",
     "text": [
      "Helloworld\n"
     ]
    }
   ],
   "source": [
    "a = \"Hello\"\n",
    "b = \"world\"\n",
    "c = a+b\n",
    "print(c)"
   ]
  },
  {
   "cell_type": "code",
   "execution_count": 5,
   "id": "1f3bb6e3",
   "metadata": {},
   "outputs": [
    {
     "name": "stdout",
     "output_type": "stream",
     "text": [
      "Hello world\n",
      "Hello world\n",
      "\n"
     ]
    }
   ],
   "source": [
    "a = \"Hello world\\n\"\n",
    "print(a*2)"
   ]
  },
  {
   "cell_type": "code",
   "execution_count": 7,
   "id": "c501c4cb",
   "metadata": {},
   "outputs": [
    {
     "data": {
      "text/plain": [
       "'l'"
      ]
     },
     "execution_count": 7,
     "metadata": {},
     "output_type": "execute_result"
    }
   ],
   "source": [
    "a = \"Hello world\"\n",
    "a[2]"
   ]
  },
  {
   "cell_type": "code",
   "execution_count": 8,
   "id": "a6f39375",
   "metadata": {},
   "outputs": [
    {
     "name": "stdout",
     "output_type": "stream",
     "text": [
      "Enter a = hello\n",
      "hello\n"
     ]
    }
   ],
   "source": [
    "a = input(\"Enter a = \")\n",
    "print(a)"
   ]
  },
  {
   "cell_type": "code",
   "execution_count": 9,
   "id": "77d36085",
   "metadata": {},
   "outputs": [
    {
     "name": "stdout",
     "output_type": "stream",
     "text": [
      "Hello\n",
      " World\n"
     ]
    }
   ],
   "source": [
    "a = \"Hello World\"\n",
    "b = a[:5]\n",
    "c = a[5:]\n",
    "print(b)\n",
    "print(c)"
   ]
  },
  {
   "cell_type": "code",
   "execution_count": 10,
   "id": "403a7e28",
   "metadata": {},
   "outputs": [
    {
     "name": "stdout",
     "output_type": "stream",
     "text": [
      "Hlowr\n"
     ]
    }
   ],
   "source": [
    "a = \"Hello world\"\n",
    "b = a[0:10:2]\n",
    "print(b)"
   ]
  },
  {
   "cell_type": "code",
   "execution_count": 13,
   "id": "66acccaf",
   "metadata": {},
   "outputs": [
    {
     "name": "stdout",
     "output_type": "stream",
     "text": [
      "Hello world i am Ram I am from kathmandu I am 34\n"
     ]
    }
   ],
   "source": [
    "name = \"Ram\"\n",
    "age = 34\n",
    "add =\"kathmandu\"\n",
    "\n",
    "info = \"Hello world i am \"+name+\" I am from \"+add+\" I am \"+str(age)\n",
    "print(info)"
   ]
  },
  {
   "cell_type": "code",
   "execution_count": 15,
   "id": "930773c5",
   "metadata": {},
   "outputs": [
    {
     "name": "stdout",
     "output_type": "stream",
     "text": [
      "Hello world i am Ram. I am from kathmandu. I am 34\n"
     ]
    }
   ],
   "source": [
    "#string formatting \n",
    "name = \"Ram\"\n",
    "age = 34 \n",
    "add = \"kathmandu\"\n",
    "\n",
    "info = f\"Hello world i am {name}. I am from {add}. I am {age}\"\n",
    "print (info)"
   ]
  },
  {
   "cell_type": "code",
   "execution_count": 17,
   "id": "5956d7c7",
   "metadata": {},
   "outputs": [
    {
     "name": "stdout",
     "output_type": "stream",
     "text": [
      "Enter n =1\n",
      "Enter name = apple\n",
      "Enter product price = 444\n",
      "Enter quantity = 2\n",
      "apple 444 2 888\n",
      "\n",
      "All total = 888\n"
     ]
    }
   ],
   "source": [
    "s = str()\n",
    "all_total = 0\n",
    "i = 0\n",
    "n = int(input(\"Enter n =\"))\n",
    "while i<n:\n",
    "    product = input(\"Enter name = \")\n",
    "    price = int(input(\"Enter product price = \"))\n",
    "    quantity = int(input(\"Enter quantity = \"))\n",
    "    total = price*quantity\n",
    "    all_total = all_total+total\n",
    "    s= s+f\"{product} {price} {quantity} {total}\\n\"\n",
    "    i = i+1\n",
    "print(s)\n",
    "print(\"All total =\",all_total)"
   ]
  },
  {
   "cell_type": "code",
   "execution_count": 18,
   "id": "14391682",
   "metadata": {},
   "outputs": [
    {
     "name": "stdout",
     "output_type": "stream",
     "text": [
      "yes\n"
     ]
    }
   ],
   "source": [
    "a = \"Ram shyam Hari Sita Nita\"\n",
    "if \"Ram\" in a:\n",
    "    print(\"yes\")\n",
    "else:\n",
    "    print(\"No\")"
   ]
  },
  {
   "cell_type": "code",
   "execution_count": 19,
   "id": "802bead8",
   "metadata": {},
   "outputs": [
    {
     "name": "stdout",
     "output_type": "stream",
     "text": [
      "yes 1\n"
     ]
    }
   ],
   "source": [
    "a = \"Ram shyam Hari Sita Nita\"\n",
    "if \"Ram\" in a:\n",
    "    print(\"yes\", a.count(\"Ram\"))\n",
    "else:\n",
    "    print(\"No\")"
   ]
  },
  {
   "cell_type": "code",
   "execution_count": 20,
   "id": "edc47063",
   "metadata": {},
   "outputs": [
    {
     "name": "stdout",
     "output_type": "stream",
     "text": [
      "Enter name = Ram\n",
      "yes 0\n"
     ]
    }
   ],
   "source": [
    "a = \"Ram shyam Hari Sita Nita\"\n",
    "name = input(\"Enter name = \")\n",
    "if name in a:\n",
    "    print(\"yes\", a.count(\"name\"))\n",
    "else:\n",
    "    print(\"No\")"
   ]
  },
  {
   "cell_type": "code",
   "execution_count": 21,
   "id": "5b1b8775",
   "metadata": {},
   "outputs": [
    {
     "name": "stdout",
     "output_type": "stream",
     "text": [
      "ram shyam hari sita nita ram\n",
      "Ram shyam Hari Sita Nita Ram\n"
     ]
    }
   ],
   "source": [
    "#string is a imutable datatype\n",
    "a = \"Ram shyam Hari Sita Nita Ram\"\n",
    "print(a.lower())\n",
    "print(a)"
   ]
  },
  {
   "cell_type": "code",
   "execution_count": 22,
   "id": "3d3ca2d6",
   "metadata": {},
   "outputs": [
    {
     "data": {
      "text/plain": [
       "'ram shyam hari sita nita ram'"
      ]
     },
     "execution_count": 22,
     "metadata": {},
     "output_type": "execute_result"
    }
   ],
   "source": [
    "a = \"Ram shyam Hari Sita Nita Ram\"\n",
    "a = a.lower()\n",
    "a"
   ]
  },
  {
   "cell_type": "code",
   "execution_count": 23,
   "id": "506a385d",
   "metadata": {},
   "outputs": [
    {
     "data": {
      "text/plain": [
       "'RAM SHYAM HARI SITA NITA RAM'"
      ]
     },
     "execution_count": 23,
     "metadata": {},
     "output_type": "execute_result"
    }
   ],
   "source": [
    "a = \"Ram shyam Hari Sita Nita Ram\"\n",
    "a = a.upper()\n",
    "a"
   ]
  },
  {
   "cell_type": "code",
   "execution_count": 24,
   "id": "a5a3bab0",
   "metadata": {},
   "outputs": [
    {
     "name": "stdout",
     "output_type": "stream",
     "text": [
      "Enter name = ram\n",
      "yes 0\n"
     ]
    }
   ],
   "source": [
    "a = \"Ram shyam Hari Sita Nita Ram\".lower()\n",
    "name = input(\"Enter name = \").lower()\n",
    "if name in a:\n",
    "    print(\"yes\", a.count(\"name\"))\n",
    "else:\n",
    "    print(\"No\")"
   ]
  },
  {
   "cell_type": "code",
   "execution_count": 1,
   "id": "617a5679",
   "metadata": {},
   "outputs": [
    {
     "data": {
      "text/plain": [
       "'Rama shyam Hari Sita Nita Rama'"
      ]
     },
     "execution_count": 1,
     "metadata": {},
     "output_type": "execute_result"
    }
   ],
   "source": [
    "a = \"Ram shyam Hari Sita Nita Ram\"\n",
    "a.replace('Ram','Rama')"
   ]
  },
  {
   "cell_type": "code",
   "execution_count": 2,
   "id": "15fd967a",
   "metadata": {},
   "outputs": [
    {
     "name": "stdout",
     "output_type": "stream",
     "text": [
      "Ram shyam Hari Sita Nita Ram\n"
     ]
    }
   ],
   "source": [
    "a = \"Ram shyam Hari Sita Nita Ram\"\n",
    "a.replace('Ram','')\n",
    "print(a)"
   ]
  },
  {
   "cell_type": "code",
   "execution_count": null,
   "id": "3db78261",
   "metadata": {},
   "outputs": [],
   "source": [
    "#write a program to search value in a string and replace it by using replace function (Assignment)"
   ]
  }
 ],
 "metadata": {
  "kernelspec": {
   "display_name": "Python 3 (ipykernel)",
   "language": "python",
   "name": "python3"
  },
  "language_info": {
   "codemirror_mode": {
    "name": "ipython",
    "version": 3
   },
   "file_extension": ".py",
   "mimetype": "text/x-python",
   "name": "python",
   "nbconvert_exporter": "python",
   "pygments_lexer": "ipython3",
   "version": "3.9.12"
  }
 },
 "nbformat": 4,
 "nbformat_minor": 5
}
