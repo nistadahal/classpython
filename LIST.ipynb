{
 "cells": [
  {
   "cell_type": "code",
   "execution_count": null,
   "id": "f66a9620",
   "metadata": {},
   "outputs": [],
   "source": [
    "#python collection \n",
    "# -list\n",
    "# -Tuple\n",
    "# -Dict\n",
    "# -set"
   ]
  },
  {
   "cell_type": "code",
   "execution_count": null,
   "id": "4bdf3cea",
   "metadata": {},
   "outputs": [],
   "source": [
    "# # -list\n",
    "# - Indexing\n",
    "# -ordered\n",
    "# -Duplicate and multiple values \n",
    "# - mutable"
   ]
  },
  {
   "cell_type": "code",
   "execution_count": 2,
   "id": "6efe6a18",
   "metadata": {},
   "outputs": [
    {
     "name": "stdout",
     "output_type": "stream",
     "text": [
      "<class 'list'>\n",
      "['Apple', 'Ball', 'cat', 'Dog', 'Fish']\n"
     ]
    }
   ],
   "source": [
    "a = [\"Apple\",\"Ball\",\"cat\",\"Dog\",\"Fish\"]\n",
    "print(type(a))\n",
    "print(a)"
   ]
  },
  {
   "cell_type": "code",
   "execution_count": 3,
   "id": "ce3fddf9",
   "metadata": {},
   "outputs": [
    {
     "name": "stdout",
     "output_type": "stream",
     "text": [
      "5\n"
     ]
    }
   ],
   "source": [
    "print(len(a))"
   ]
  },
  {
   "cell_type": "code",
   "execution_count": 4,
   "id": "4395b903",
   "metadata": {},
   "outputs": [
    {
     "name": "stdout",
     "output_type": "stream",
     "text": [
      "Apple\n",
      "Fish\n"
     ]
    }
   ],
   "source": [
    "a = [\"Apple\",\"Ball\",\"cat\",\"Dog\",\"Fish\"]\n",
    "print(a[0])\n",
    "print(a[-1])"
   ]
  },
  {
   "cell_type": "code",
   "execution_count": 5,
   "id": "84ea4bbf",
   "metadata": {},
   "outputs": [
    {
     "name": "stdout",
     "output_type": "stream",
     "text": [
      "['Apple', 'Ball', 'cat', 'Dog']\n"
     ]
    }
   ],
   "source": [
    "a = [\"Apple\",\"Ball\",\"cat\",\"Dog\",\"Fish\"]\n",
    "print(a[0:4])"
   ]
  },
  {
   "cell_type": "code",
   "execution_count": 7,
   "id": "40f6bdfc",
   "metadata": {},
   "outputs": [
    {
     "data": {
      "text/plain": [
       "['Apple', 'cat', 'Fish']"
      ]
     },
     "execution_count": 7,
     "metadata": {},
     "output_type": "execute_result"
    }
   ],
   "source": [
    "a = [\"Apple\",\"Ball\",\"cat\",\"Dog\",\"Fish\"]\n",
    "a[0:5:2]"
   ]
  },
  {
   "cell_type": "code",
   "execution_count": 4,
   "id": "f8fe9ecb",
   "metadata": {},
   "outputs": [
    {
     "name": "stdout",
     "output_type": "stream",
     "text": [
      "['Apple', 'Ball', 'cat', 'Dog', 'Goat', 'Fish']\n"
     ]
    }
   ],
   "source": [
    "a = [\"Apple\", \"Ball\", \"cat\", \"Dog\"]\n",
    "b = [\"Goat\",\"Fish\"]\n",
    "c = a+b\n",
    "print(c)"
   ]
  },
  {
   "cell_type": "code",
   "execution_count": 3,
   "id": "c7617db6",
   "metadata": {},
   "outputs": [
    {
     "name": "stdout",
     "output_type": "stream",
     "text": [
      "['Apple', 'Ball', 'cat', 'Dog', 'Goat', 'fish', 'Apple']\n"
     ]
    }
   ],
   "source": [
    "a = ['Apple', 'Ball', 'cat', 'Dog', 'Goat', 'fish']\n",
    "a.append('Apple')\n",
    "print(a)"
   ]
  },
  {
   "cell_type": "code",
   "execution_count": 2,
   "id": "43fb7ec5",
   "metadata": {},
   "outputs": [
    {
     "name": "stdout",
     "output_type": "stream",
     "text": [
      "['Apple', 'apple', 'Ball', 'cat', 'Dog', 'Fish']\n"
     ]
    }
   ],
   "source": [
    "a = [\"Apple\",\"Ball\",\"cat\",\"Dog\",\"Fish\"]\n",
    "a.insert(1,'apple')\n",
    "print(a)"
   ]
  },
  {
   "cell_type": "code",
   "execution_count": 5,
   "id": "d3c1704b",
   "metadata": {},
   "outputs": [
    {
     "name": "stdout",
     "output_type": "stream",
     "text": [
      "['Apple', 'Ball', 'cat', 'Dog', 'Goat', 'fish', 1, 2, 3, 4]\n"
     ]
    }
   ],
   "source": [
    "a = ['Apple', 'Ball', 'cat', 'Dog', 'Goat', 'fish']\n",
    "b = [1,2,3,4]\n",
    "a.extend(b)\n",
    "print(a)"
   ]
  },
  {
   "cell_type": "code",
   "execution_count": 6,
   "id": "8e963f00",
   "metadata": {},
   "outputs": [
    {
     "name": "stdout",
     "output_type": "stream",
     "text": [
      "Enter n =5\n",
      "Enter x =32\n",
      "Enter x =54\n",
      "Enter x =576\n",
      "Enter x =80\n",
      "Enter x =90\n",
      "[32, 54, 576, 80, 90]\n"
     ]
    }
   ],
   "source": [
    "a = list()\n",
    "n = int(input(\"Enter n =\"))\n",
    "for i in range(n):\n",
    "    x = int(input(\"Enter x =\"))\n",
    "    a.append(x)\n",
    "    \n",
    "print (a)    "
   ]
  },
  {
   "cell_type": "code",
   "execution_count": 9,
   "id": "78889bb5",
   "metadata": {},
   "outputs": [
    {
     "name": "stdout",
     "output_type": "stream",
     "text": [
      "sum =  832\n",
      "max =  576\n",
      "min =  32\n",
      "[32, 54, 80, 90, 576]\n",
      "[576, 90, 80, 54, 32]\n"
     ]
    }
   ],
   "source": [
    "print(\"sum = \",sum(a))\n",
    "print(\"max = \",max(a))\n",
    "print(\"min = \",min(a))\n",
    "a.sort()\n",
    "print(a)\n",
    "a.reverse()\n",
    "print(a)"
   ]
  },
  {
   "cell_type": "code",
   "execution_count": 10,
   "id": "f13b52a7",
   "metadata": {},
   "outputs": [
    {
     "name": "stdout",
     "output_type": "stream",
     "text": [
      "['Apple', 'Ball', 'Xray', 'Zebra', 'apple']\n"
     ]
    }
   ],
   "source": [
    "a = ['Zebra','Apple','Ball','Xray','apple']\n",
    "a.sort()\n",
    "print(a)"
   ]
  },
  {
   "cell_type": "code",
   "execution_count": 11,
   "id": "cb0c7e6a",
   "metadata": {},
   "outputs": [
    {
     "name": "stdout",
     "output_type": "stream",
     "text": [
      "Zebra\n",
      "Apple\n",
      "Ball\n",
      "Xray\n",
      "apple\n"
     ]
    }
   ],
   "source": [
    "a = ['Zebra','Apple','Ball','Xray','apple']\n",
    "for i in a:\n",
    "    print(i)"
   ]
  },
  {
   "cell_type": "code",
   "execution_count": 16,
   "id": "7be76154",
   "metadata": {},
   "outputs": [
    {
     "name": "stdout",
     "output_type": "stream",
     "text": [
      "Zebra\n",
      "Apple\n",
      "Xray\n",
      "apple\n"
     ]
    }
   ],
   "source": [
    "a = ['Zebra','Apple','Ball','Xray','apple']\n",
    "for i in a:\n",
    "    if i != 'Ball':\n",
    "        \n",
    "        print(i)"
   ]
  },
  {
   "cell_type": "code",
   "execution_count": 17,
   "id": "e6e8e243",
   "metadata": {},
   "outputs": [
    {
     "name": "stdout",
     "output_type": "stream",
     "text": [
      "Enter a = apple\n",
      "yes\n"
     ]
    }
   ],
   "source": [
    "a = ['Zebra','Apple','Ball','Xray','apple']\n",
    "value = input(\"Enter a = \")\n",
    "if \"Apple\" in a:\n",
    "    print(\"yes\")\n",
    "else:\n",
    "    print(\"No\")\n",
    "    "
   ]
  },
  {
   "cell_type": "code",
   "execution_count": 20,
   "id": "d4101c3f",
   "metadata": {},
   "outputs": [
    {
     "name": "stdout",
     "output_type": "stream",
     "text": [
      "Zebra\n",
      "Apple\n",
      "Ball\n",
      "Xray\n",
      "apple\n"
     ]
    }
   ],
   "source": [
    "a = ['Zebra','Apple','Ball','Xray','apple']\n",
    "l = len(a)\n",
    "for i in range(l):\n",
    "    print(a[i])"
   ]
  },
  {
   "cell_type": "code",
   "execution_count": 23,
   "id": "59e4d83e",
   "metadata": {},
   "outputs": [
    {
     "name": "stdout",
     "output_type": "stream",
     "text": [
      "Enter value = sdfd\n",
      "No\n"
     ]
    }
   ],
   "source": [
    "a = ['Zebra','Apple','Ball','Xray','apple']\n",
    "l = len(a)\n",
    "value = input(\"Enter value = \")\n",
    "for i in range(l):\n",
    "    if a[i].lower() == value.lower():\n",
    "        print(\"yes\")\n",
    "        break\n",
    "else:\n",
    "    print(\"No\") "
   ]
  },
  {
   "cell_type": "code",
   "execution_count": 2,
   "id": "f2c11692",
   "metadata": {},
   "outputs": [
    {
     "name": "stdout",
     "output_type": "stream",
     "text": [
      "Enter value = Apple\n",
      "yes\n"
     ]
    }
   ],
   "source": [
    "a = ['Zebra','Apple','Ball','Xray','apple']\n",
    "value = input(\"Enter value = \")\n",
    "for i in a:\n",
    "    if i.lower() == value.lower():\n",
    "        print(\"yes\")\n",
    "        break\n",
    "else:\n",
    "    print(\"No\") "
   ]
  },
  {
   "cell_type": "code",
   "execution_count": 3,
   "id": "f6611eab",
   "metadata": {},
   "outputs": [
    {
     "data": {
      "text/plain": [
       "0"
      ]
     },
     "execution_count": 3,
     "metadata": {},
     "output_type": "execute_result"
    }
   ],
   "source": [
    "a = ['Zebra','Apple','Ball','Xray','apple']\n",
    "a.index('Zebra')"
   ]
  },
  {
   "cell_type": "code",
   "execution_count": 1,
   "id": "fdfa894f",
   "metadata": {},
   "outputs": [
    {
     "name": "stdout",
     "output_type": "stream",
     "text": [
      "1\n",
      "4\n"
     ]
    }
   ],
   "source": [
    "a = ['Zebra','Apple','Ball','Xray','Apple']\n",
    "for i in range (len(a)):\n",
    "    if a[i] == \"Apple\":\n",
    "        print(i)"
   ]
  },
  {
   "cell_type": "code",
   "execution_count": 2,
   "id": "52a92c9e",
   "metadata": {},
   "outputs": [
    {
     "name": "stdout",
     "output_type": "stream",
     "text": [
      "['zebra', 'Apple', 'Ball', 'Xray', 'Apple']\n"
     ]
    }
   ],
   "source": [
    "# update values \n",
    "a = ['Zebra','Apple','Ball','Xray','Apple']\n",
    "a[0] = 'zebra'\n",
    "print(a)"
   ]
  },
  {
   "cell_type": "code",
   "execution_count": 3,
   "id": "100ffbb9",
   "metadata": {},
   "outputs": [
    {
     "name": "stdout",
     "output_type": "stream",
     "text": [
      "['zebra', 'apple', 'Ball', 'Xray', 'Apple']\n"
     ]
    }
   ],
   "source": [
    "# update values \n",
    "a = ['Zebra','Apple','Ball','Xray','Apple']\n",
    "a[0:2] = ['zebra','apple']\n",
    "print(a)"
   ]
  },
  {
   "cell_type": "markdown",
   "id": "cdf0f623",
   "metadata": {},
   "source": []
  },
  {
   "cell_type": "code",
   "execution_count": 9,
   "id": "7d51a6b1",
   "metadata": {},
   "outputs": [
    {
     "name": "stdout",
     "output_type": "stream",
     "text": [
      "['Apple', 'Ball', 'Xray', 'Apple']\n"
     ]
    }
   ],
   "source": [
    "#del remove() pop()\n",
    "a = ['Zebra','Apple','Ball','Xray','Apple']\n",
    "del a[0]\n",
    "print(a)"
   ]
  },
  {
   "cell_type": "code",
   "execution_count": 8,
   "id": "12002134",
   "metadata": {},
   "outputs": [
    {
     "name": "stdout",
     "output_type": "stream",
     "text": [
      "['Ball', 'Xray', 'Apple']\n"
     ]
    }
   ],
   "source": [
    "a = ['Zebra','Apple','Ball','Xray','Apple']\n",
    "del a[0:2]\n",
    "print(a)"
   ]
  },
  {
   "cell_type": "code",
   "execution_count": 10,
   "id": "ad4101ea",
   "metadata": {},
   "outputs": [
    {
     "name": "stdout",
     "output_type": "stream",
     "text": [
      "Zebra\n",
      "['Apple', 'Ball', 'Xray', 'Apple']\n"
     ]
    }
   ],
   "source": [
    "a = ['Zebra','Apple','Ball','Xray','Apple']\n",
    "b = a.pop(0)\n",
    "print(b)\n",
    "print(a)"
   ]
  },
  {
   "cell_type": "code",
   "execution_count": 2,
   "id": "b462c27d",
   "metadata": {},
   "outputs": [
    {
     "data": {
      "text/plain": [
       "['Apple', 'Ball', 'Xray', 'Apple']"
      ]
     },
     "execution_count": 2,
     "metadata": {},
     "output_type": "execute_result"
    }
   ],
   "source": [
    "a = ['Zebra','Apple','Ball','Xray','Apple']\n",
    "a.remove('Zebra')\n",
    "a"
   ]
  },
  {
   "cell_type": "code",
   "execution_count": 3,
   "id": "fe38deaf",
   "metadata": {},
   "outputs": [
    {
     "name": "stdout",
     "output_type": "stream",
     "text": [
      "['Zebra', 'Ball', 'Xray']\n"
     ]
    }
   ],
   "source": [
    "a = ['Zebra','Apple','Ball','Xray','Apple']\n",
    "l = a.count('Apple')\n",
    "for i in range(l):\n",
    "    a.remove('Apple')\n",
    "    \n",
    "print(a)"
   ]
  },
  {
   "cell_type": "code",
   "execution_count": 23,
   "id": "53960ac1",
   "metadata": {},
   "outputs": [
    {
     "name": "stdout",
     "output_type": "stream",
     "text": [
      "3\n"
     ]
    }
   ],
   "source": [
    "# Neted list (list inside list)\n",
    "\n",
    "a = [[1,2,3],\n",
    "    [4,5,6],\n",
    "    [7,8,9]]\n",
    "print(len(a))"
   ]
  },
  {
   "cell_type": "code",
   "execution_count": 7,
   "id": "44991e65",
   "metadata": {},
   "outputs": [
    {
     "name": "stdout",
     "output_type": "stream",
     "text": [
      "[['Ram', 34, 'kathmandu'], ['shyam', 21, 'Lalitpur'], ['Hari', 67, 'Bhaktapur']]\n"
     ]
    }
   ],
   "source": [
    "a = [['Ram',34,'kathmandu'],\n",
    "    ['shyam', 21,'Lalitpur'],\n",
    "    ['Hari',67,'Bhaktapur']]\n",
    "print(a)"
   ]
  },
  {
   "cell_type": "code",
   "execution_count": null,
   "id": "e67ac9e6",
   "metadata": {},
   "outputs": [],
   "source": []
  },
  {
   "cell_type": "code",
   "execution_count": 8,
   "id": "5a3c7885",
   "metadata": {},
   "outputs": [
    {
     "name": "stdout",
     "output_type": "stream",
     "text": [
      "['Hari', 67, 'Bhaktapur']\n"
     ]
    }
   ],
   "source": [
    "print(a[2])"
   ]
  },
  {
   "cell_type": "code",
   "execution_count": 9,
   "id": "5e8cf410",
   "metadata": {},
   "outputs": [
    {
     "name": "stdout",
     "output_type": "stream",
     "text": [
      "Hari\n"
     ]
    }
   ],
   "source": [
    "print(a[2][0])"
   ]
  },
  {
   "cell_type": "code",
   "execution_count": 10,
   "id": "b09a9585",
   "metadata": {},
   "outputs": [
    {
     "name": "stdout",
     "output_type": "stream",
     "text": [
      "Enter n =2\n",
      "Enter name = Ram\n",
      "Enter age = 23\n",
      "Enter add = kathmandu\n",
      "Enter name = shyam\n",
      "Enter age = 45\n",
      "Enter add = lalitpur\n",
      "[['Ram', '23', 'kathmandu'], ['shyam', '45', 'lalitpur']]\n"
     ]
    }
   ],
   "source": [
    "a = list()\n",
    "n = int(input(\"Enter n =\"))\n",
    "for i in range(n):\n",
    "    name = input(\"Enter name = \")\n",
    "    age = input(\"Enter age = \")\n",
    "    add = input(\"Enter add = \")\n",
    "    a.append([name,age,add])\n",
    "    \n",
    "print (a)    "
   ]
  },
  {
   "cell_type": "code",
   "execution_count": 11,
   "id": "53dc36b4",
   "metadata": {},
   "outputs": [
    {
     "data": {
      "text/plain": [
       "[['Ram', '23', 'kathmandu'],\n",
       " ['shyam', '45', 'lalitpur'],\n",
       " ['Hari', 45, 'Bhaktapur']]"
      ]
     },
     "execution_count": 11,
     "metadata": {},
     "output_type": "execute_result"
    }
   ],
   "source": [
    "a = [['Ram', '23', 'kathmandu'], ['shyam', '45', 'lalitpur']]\n",
    "a.append(['Hari',45,'Bhaktapur'])\n",
    "a"
   ]
  },
  {
   "cell_type": "code",
   "execution_count": 16,
   "id": "382a0680",
   "metadata": {},
   "outputs": [
    {
     "name": "stdout",
     "output_type": "stream",
     "text": [
      "Enter name = Ram\n",
      "yes\n"
     ]
    }
   ],
   "source": [
    "a =[['Ram', '23', 'kathmandu'],\n",
    " ['shyam', '45', 'lalitpur'],\n",
    " ['Hari', 45, 'Bhaktapur']]\n",
    "name = input(\"Enter name = \")\n",
    "for i in a:\n",
    "    if name in i:\n",
    "        print(\"yes\")\n"
   ]
  },
  {
   "cell_type": "code",
   "execution_count": 17,
   "id": "75fa70e3",
   "metadata": {},
   "outputs": [
    {
     "name": "stdout",
     "output_type": "stream",
     "text": [
      "Enter name = Ram\n",
      "['Ram', '23', 'kathmandu']\n"
     ]
    }
   ],
   "source": [
    "a =[['Ram', '23', 'kathmandu'],\n",
    " ['shyam', '45', 'lalitpur'],\n",
    " ['Hari', 45, 'Bhaktapur']]\n",
    "name = input(\"Enter name = \")\n",
    "for i in a:\n",
    "    if name in i:\n",
    "        print(i)\n"
   ]
  },
  {
   "cell_type": "code",
   "execution_count": 18,
   "id": "eaefd7df",
   "metadata": {},
   "outputs": [
    {
     "data": {
      "text/plain": [
       "[['Ramesh', '23', 'kathmandu'],\n",
       " ['shyam', '45', 'lalitpur'],\n",
       " ['Hari', 45, 'Bhaktapur']]"
      ]
     },
     "execution_count": 18,
     "metadata": {},
     "output_type": "execute_result"
    }
   ],
   "source": [
    "a = [['Ram', '23', 'kathmandu'],['shyam', '45', 'lalitpur'],['Hari', 45, 'Bhaktapur']]\n",
    "a[0][0] = 'Ramesh'\n",
    "a"
   ]
  },
  {
   "cell_type": "code",
   "execution_count": 19,
   "id": "a07ddc27",
   "metadata": {},
   "outputs": [
    {
     "name": "stdout",
     "output_type": "stream",
     "text": [
      "Enter Name = Ramesh\n"
     ]
    },
    {
     "data": {
      "text/plain": [
       "[['Ramesh', '23', 'kathmandu'],\n",
       " ['shyam', '45', 'lalitpur'],\n",
       " ['Hari', 45, 'Bhaktapur']]"
      ]
     },
     "execution_count": 19,
     "metadata": {},
     "output_type": "execute_result"
    }
   ],
   "source": [
    "a = [['Ram', '23', 'kathmandu'],['shyam', '45', 'lalitpur'],['Hari', 45, 'Bhaktapur']]\n",
    "a[0][0] = input(\"Enter Name = \")\n",
    "a"
   ]
  },
  {
   "cell_type": "code",
   "execution_count": 20,
   "id": "2b0c10fe",
   "metadata": {},
   "outputs": [
    {
     "name": "stdout",
     "output_type": "stream",
     "text": [
      "Enter Name = Rama\n"
     ]
    },
    {
     "data": {
      "text/plain": [
       "[['Rama', '56', 'Bara'],\n",
       " ['shyam', '45', 'lalitpur'],\n",
       " ['Hari', 45, 'Bhaktapur']]"
      ]
     },
     "execution_count": 20,
     "metadata": {},
     "output_type": "execute_result"
    }
   ],
   "source": [
    "a = [['Ram', '56', 'Bara'],['shyam', '45', 'lalitpur'],['Hari', 45, 'Bhaktapur']]\n",
    "a[0][0] = input(\"Enter Name = \")\n",
    "a"
   ]
  },
  {
   "cell_type": "code",
   "execution_count": 21,
   "id": "e3c493cf",
   "metadata": {},
   "outputs": [
    {
     "name": "stdout",
     "output_type": "stream",
     "text": [
      "Enter index = 1\n",
      "Enter name = shyam sundar\n",
      "Enter age = 23\n",
      "Enter add = lalitpur\n"
     ]
    }
   ],
   "source": [
    "a = [['Ram', '56', 'Bara'],['shyam', '45', 'lalitpur'],['Hari', 45, 'Bhaktapur']]\n",
    "index = int(input(\"Enter index = \"))\n",
    "a[index][0] = input (\"Enter name = \")\n",
    "a[index][1] = input(\"Enter age = \")\n",
    "a[index][2] = input (\"Enter add = \")"
   ]
  },
  {
   "cell_type": "code",
   "execution_count": 22,
   "id": "bc9d32d5",
   "metadata": {},
   "outputs": [
    {
     "name": "stdout",
     "output_type": "stream",
     "text": [
      "[['Ram', '56', 'Bara'], ['shyam sundar', '23', 'lalitpur'], ['Hari', 45, 'Bhaktapur']]\n"
     ]
    }
   ],
   "source": [
    "print(a)"
   ]
  },
  {
   "cell_type": "code",
   "execution_count": 24,
   "id": "f914f13e",
   "metadata": {},
   "outputs": [
    {
     "name": "stdout",
     "output_type": "stream",
     "text": [
      "Enter n =2\n",
      "Enter name = Apple\n",
      "Enter product price = 400\n",
      "Enter quantity = 2\n",
      "Enter name = Banana\n",
      "Enter product price = 200\n",
      "Enter quantity = 3\n",
      "Apple 400 2 800\n",
      "Banana 200 3 600\n",
      "\n",
      "All total = 1400\n"
     ]
    }
   ],
   "source": [
    "s = str()\n",
    "all_total = 0\n",
    "i = 0\n",
    "n = int(input(\"Enter n =\"))\n",
    "while i<n:\n",
    "    product = input(\"Enter name = \")\n",
    "    price = int(input(\"Enter product price = \"))\n",
    "    quantity = int(input(\"Enter quantity = \"))\n",
    "    total = price*quantity\n",
    "    all_total = all_total+total\n",
    "    s= s+f\"{product} {price} {quantity} {total}\\n\"\n",
    "    i = i+1\n",
    "print(s)\n",
    "print(\"All total =\",all_total)"
   ]
  },
  {
   "cell_type": "code",
   "execution_count": 25,
   "id": "4f0a9ffc",
   "metadata": {},
   "outputs": [
    {
     "name": "stdout",
     "output_type": "stream",
     "text": [
      "Apple 400 2 800\n",
      "Banana 200 3 600\n",
      "\n"
     ]
    }
   ],
   "source": [
    "print(s)"
   ]
  },
  {
   "cell_type": "code",
   "execution_count": 26,
   "id": "55728aa0",
   "metadata": {},
   "outputs": [
    {
     "data": {
      "text/plain": [
       "'Apple 400 2 800\\nBanana 200 3 600\\n'"
      ]
     },
     "execution_count": 26,
     "metadata": {},
     "output_type": "execute_result"
    }
   ],
   "source": [
    "(s)"
   ]
  },
  {
   "cell_type": "code",
   "execution_count": 28,
   "id": "c25ac6d1",
   "metadata": {},
   "outputs": [
    {
     "data": {
      "text/plain": [
       "['Apple 400 2 800', 'Banana 200 3 600', '']"
      ]
     },
     "execution_count": 28,
     "metadata": {},
     "output_type": "execute_result"
    }
   ],
   "source": [
    "s.split('\\n')"
   ]
  },
  {
   "cell_type": "code",
   "execution_count": 30,
   "id": "f986bc65",
   "metadata": {},
   "outputs": [
    {
     "name": "stdout",
     "output_type": "stream",
     "text": [
      "['Apple', '400', '2', '800']\n",
      "['Banana', '200', '3', '600']\n"
     ]
    }
   ],
   "source": [
    "s = 'Apple 400 2 800\\nBanana 200 3 600\\n'\n",
    "a = s.split('\\n')[0:-1]\n",
    "for i in a:\n",
    "    print(i.split())"
   ]
  },
  {
   "cell_type": "code",
   "execution_count": 36,
   "id": "5436ee14",
   "metadata": {},
   "outputs": [
    {
     "name": "stdout",
     "output_type": "stream",
     "text": [
      "['Apple', '400', '2', '800']\n",
      "['Banana', '200', '3', '600']\n"
     ]
    },
    {
     "data": {
      "text/plain": [
       "[['Apple', '400', '2', '800'], ['Banana', '200', '3', '600']]"
      ]
     },
     "execution_count": 36,
     "metadata": {},
     "output_type": "execute_result"
    }
   ],
   "source": [
    "bill = [] \n",
    "s = 'Apple 400 2 800\\nBanana 200 3 600\\n'\n",
    "a = s.split('\\n')[0:-1]\n",
    "for i in a:\n",
    "    x = i.split()\n",
    "    print(x)\n",
    "    bill.append(x)\n",
    "\n",
    "    \n",
    "bill"
   ]
  },
  {
   "cell_type": "code",
   "execution_count": null,
   "id": "cedb6410",
   "metadata": {},
   "outputs": [],
   "source": []
  },
  {
   "cell_type": "code",
   "execution_count": null,
   "id": "a12ccff4",
   "metadata": {},
   "outputs": [],
   "source": []
  }
 ],
 "metadata": {
  "kernelspec": {
   "display_name": "Python 3 (ipykernel)",
   "language": "python",
   "name": "python3"
  },
  "language_info": {
   "codemirror_mode": {
    "name": "ipython",
    "version": 3
   },
   "file_extension": ".py",
   "mimetype": "text/x-python",
   "name": "python",
   "nbconvert_exporter": "python",
   "pygments_lexer": "ipython3",
   "version": "3.9.12"
  }
 },
 "nbformat": 4,
 "nbformat_minor": 5
}
