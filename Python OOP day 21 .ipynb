{
 "cells": [
  {
   "cell_type": "code",
   "execution_count": null,
   "id": "891bd45b",
   "metadata": {},
   "outputs": [],
   "source": [
    "str_method"
   ]
  },
  {
   "cell_type": "code",
   "execution_count": 2,
   "id": "9f6bdf80",
   "metadata": {},
   "outputs": [
    {
     "name": "stdout",
     "output_type": "stream",
     "text": [
      "Ram\n",
      "<class '__main__.student'>\n"
     ]
    }
   ],
   "source": [
    "class student:\n",
    "    def __init__(self,name,age,add):\n",
    "        self.name = name\n",
    "        self.age = age\n",
    "        self.add = add\n",
    "        \n",
    "    def __str__(self):\n",
    "        return self.name\n",
    "    \n",
    "obj = student(\"Ram\",34,\"kathmandu\")\n",
    "print(obj)\n",
    "print(type(obj))\n",
    "    "
   ]
  },
  {
   "cell_type": "code",
   "execution_count": 3,
   "id": "5e32599d",
   "metadata": {},
   "outputs": [
    {
     "name": "stdout",
     "output_type": "stream",
     "text": [
      "Ram\n",
      "Ram\n",
      "Ram\n"
     ]
    }
   ],
   "source": [
    "class student:\n",
    "    def __init__(self,name,age,add):\n",
    "        self.name = name\n",
    "        self.age = age\n",
    "        self.add = add\n",
    "        \n",
    "    def __str__(self):\n",
    "        return self.name\n",
    "    \n",
    "obj = student(\"Ram\",34,\"kathmandu\")\n",
    "print(obj)\n",
    "print(str(obj))\n",
    "print(obj.__str__())\n",
    "    "
   ]
  },
  {
   "cell_type": "code",
   "execution_count": 7,
   "id": "32999b70",
   "metadata": {},
   "outputs": [
    {
     "name": "stdout",
     "output_type": "stream",
     "text": [
      "This is init method 2 3\n",
      "This is init method -1 2\n",
      "This is add method 1 5\n",
      "This is init method 1 5\n",
      "This is str method 1 5\n",
      "(1,5)\n"
     ]
    }
   ],
   "source": [
    "class point:\n",
    "    def __init__(self, x = 0, y = 0):\n",
    "        self.x = x\n",
    "        self.y = y\n",
    "        print(\"This is init method\",self.x,self.y)\n",
    "        \n",
    "    def __str__(self):\n",
    "        print(\"This is str method\", self.x,self.y)\n",
    "        return f\"({self.x},{self.y})\"\n",
    "    \n",
    "    def __add__(self, other):\n",
    "        x = self.x + other.x\n",
    "        y = self.y + other.y\n",
    "        print(\"This is add method\",x,y)\n",
    "        return point(x,y)\n",
    "\n",
    "p1 = point(2,3)\n",
    "p2 = point(-1,2)\n",
    "print(p1 + p2)"
   ]
  },
  {
   "cell_type": "code",
   "execution_count": 8,
   "id": "43d9c116",
   "metadata": {},
   "outputs": [
    {
     "name": "stdout",
     "output_type": "stream",
     "text": [
      "This is init method 1000\n",
      "This is init method 1500\n",
      "This is init method 2000\n",
      "This is add method 2500\n",
      "This is init method 2500\n",
      "This is add method 4500\n",
      "This is init method 4500\n",
      "This is str method 4500\n",
      "(4500)\n"
     ]
    }
   ],
   "source": [
    "class point:\n",
    "    def __init__(self, x = 0, y = 0):\n",
    "        self.x = x\n",
    "        print(\"This is init method\",self.x)\n",
    "        \n",
    "    def __str__(self):\n",
    "        print(\"This is str method\", self.x)\n",
    "        return f\"({self.x})\"\n",
    "    \n",
    "    def __add__(self, other):\n",
    "        x = self.x + other.x\n",
    "        print(\"This is add method\",x)\n",
    "        return point(x)\n",
    "\n",
    "p1 = point(1000)\n",
    "p2 = point(1500)\n",
    "p3 = point(2000)\n",
    "print(p1 + p2 + p3)"
   ]
  },
  {
   "cell_type": "code",
   "execution_count": null,
   "id": "a2fe9155",
   "metadata": {},
   "outputs": [],
   "source": []
  }
 ],
 "metadata": {
  "kernelspec": {
   "display_name": "Python 3 (ipykernel)",
   "language": "python",
   "name": "python3"
  },
  "language_info": {
   "codemirror_mode": {
    "name": "ipython",
    "version": 3
   },
   "file_extension": ".py",
   "mimetype": "text/x-python",
   "name": "python",
   "nbconvert_exporter": "python",
   "pygments_lexer": "ipython3",
   "version": "3.9.12"
  }
 },
 "nbformat": 4,
 "nbformat_minor": 5
}
