{
 "cells": [
  {
   "cell_type": "code",
   "execution_count": null,
   "id": "dd9a0c34",
   "metadata": {},
   "outputs": [],
   "source": [
    "#Tuple\n",
    "#-Indexing\n",
    "#-ordered\n",
    "#-Duplicate and multiple data\n",
    "#-Imutable "
   ]
  },
  {
   "cell_type": "code",
   "execution_count": 1,
   "id": "ca17ec33",
   "metadata": {},
   "outputs": [
    {
     "name": "stdout",
     "output_type": "stream",
     "text": [
      "<class 'tuple'>\n",
      "<class 'tuple'>\n"
     ]
    }
   ],
   "source": [
    "a = (1,2,3,4,5)\n",
    "b = tuple()\n",
    "print(type(a))\n",
    "print(type(b))"
   ]
  },
  {
   "cell_type": "code",
   "execution_count": 2,
   "id": "9b96233f",
   "metadata": {},
   "outputs": [
    {
     "name": "stdout",
     "output_type": "stream",
     "text": [
      "Apple\n",
      "Ball\n",
      "Cat\n"
     ]
    }
   ],
   "source": [
    "a = (\"Apple\", \"Ball\",\"Cat\", \"Dog\",\"fish\")\n",
    "print(a[0])\n",
    "print(a[1])\n",
    "print(a[2])"
   ]
  },
  {
   "cell_type": "code",
   "execution_count": 3,
   "id": "a8ead4be",
   "metadata": {},
   "outputs": [
    {
     "name": "stdout",
     "output_type": "stream",
     "text": [
      "('Apple', 'Ball', 'Cat', 'Dog')\n"
     ]
    }
   ],
   "source": [
    "a = (\"Apple\", \"Ball\",\"Cat\", \"Dog\",\"fish\")\n",
    "print(a[0:4])"
   ]
  },
  {
   "cell_type": "code",
   "execution_count": 4,
   "id": "a6770497",
   "metadata": {},
   "outputs": [
    {
     "name": "stdout",
     "output_type": "stream",
     "text": [
      "('Apple', 'Cat', 'fish')\n"
     ]
    }
   ],
   "source": [
    "a = (\"Apple\", \"Ball\",\"Cat\", \"Dog\",\"fish\")\n",
    "print(a[0:6:2])"
   ]
  },
  {
   "cell_type": "code",
   "execution_count": 5,
   "id": "a20eee44",
   "metadata": {},
   "outputs": [
    {
     "name": "stdout",
     "output_type": "stream",
     "text": [
      "('Apple', 'Cat', 'fish')\n"
     ]
    }
   ],
   "source": [
    "a = (\"Apple\", \"Ball\",\"Cat\", \"Dog\",\"fish\")\n",
    "print(a[::2])"
   ]
  },
  {
   "cell_type": "code",
   "execution_count": 6,
   "id": "0fbb3f26",
   "metadata": {},
   "outputs": [
    {
     "name": "stdout",
     "output_type": "stream",
     "text": [
      "('fish', 'Dog', 'Cat', 'Ball', 'Apple')\n"
     ]
    }
   ],
   "source": [
    "a = (\"Apple\", \"Ball\",\"Cat\", \"Dog\",\"fish\")\n",
    "print(a[::-1])"
   ]
  },
  {
   "cell_type": "code",
   "execution_count": 7,
   "id": "5ce7c807",
   "metadata": {},
   "outputs": [
    {
     "data": {
      "text/plain": [
       "'nohtyp'"
      ]
     },
     "execution_count": 7,
     "metadata": {},
     "output_type": "execute_result"
    }
   ],
   "source": [
    "a = \"python\"\n",
    "a[::-1]"
   ]
  },
  {
   "cell_type": "code",
   "execution_count": 8,
   "id": "a4350df5",
   "metadata": {},
   "outputs": [
    {
     "name": "stdout",
     "output_type": "stream",
     "text": [
      "('Apple', 'Ball', 'Cat', 'Dog', 'fish', 'Goat', 'Apple')\n"
     ]
    }
   ],
   "source": [
    "a = (\"Apple\", \"Ball\",\"Cat\", \"Dog\",\"fish\")\n",
    "b = (\"Goat\",\"Apple\")\n",
    "c = a+b\n",
    "print(c)"
   ]
  },
  {
   "cell_type": "code",
   "execution_count": 9,
   "id": "b402d1a0",
   "metadata": {},
   "outputs": [
    {
     "data": {
      "text/plain": [
       "tuple"
      ]
     },
     "execution_count": 9,
     "metadata": {},
     "output_type": "execute_result"
    }
   ],
   "source": [
    "a = (\"Apple\",\"Ball\")\n",
    "type(a)"
   ]
  },
  {
   "cell_type": "code",
   "execution_count": 10,
   "id": "26c8c43e",
   "metadata": {},
   "outputs": [
    {
     "data": {
      "text/plain": [
       "str"
      ]
     },
     "execution_count": 10,
     "metadata": {},
     "output_type": "execute_result"
    }
   ],
   "source": [
    "a = (\"Apple\")\n",
    "type(a)"
   ]
  },
  {
   "cell_type": "code",
   "execution_count": null,
   "id": "3383345e",
   "metadata": {},
   "outputs": [],
   "source": [
    "#No append insert extend\n",
    "#No update or edit \n",
    "#No Delete remove pop"
   ]
  },
  {
   "cell_type": "code",
   "execution_count": 13,
   "id": "32ec83b1",
   "metadata": {},
   "outputs": [
    {
     "data": {
      "text/plain": [
       "(2, 3, 4)"
      ]
     },
     "execution_count": 13,
     "metadata": {},
     "output_type": "execute_result"
    }
   ],
   "source": [
    "a = (1,2,3,4)\n",
    "b = list(a)\n",
    "del b[0]\n",
    "a = tuple(b)\n",
    "a"
   ]
  },
  {
   "cell_type": "code",
   "execution_count": 14,
   "id": "197ee1c1",
   "metadata": {},
   "outputs": [
    {
     "name": "stdout",
     "output_type": "stream",
     "text": [
      "Enter n = 5\n",
      "Enter x = 234\n",
      "Enter x = 456\n",
      "Enter x = 56\n",
      "Enter x = 23\n",
      "Enter x = 56\n",
      "(234, 456, 56, 23, 56)\n"
     ]
    }
   ],
   "source": [
    "t = ()\n",
    "n = int(input(\"Enter n = \"))\n",
    "for i in range(n):\n",
    "    x = int(input(\"Enter x = \"))\n",
    "    t = t+(x,)\n",
    "    \n",
    "print(t)\n",
    "    "
   ]
  },
  {
   "cell_type": "code",
   "execution_count": 16,
   "id": "cff2f397",
   "metadata": {},
   "outputs": [
    {
     "name": "stdout",
     "output_type": "stream",
     "text": [
      "Sum =  825\n",
      "max =  456\n",
      "min = 23\n",
      "[23, 56, 56, 234, 456]\n",
      "(234, 456, 56, 23, 56)\n"
     ]
    }
   ],
   "source": [
    "print(\"Sum = \",sum(t))\n",
    "print(\"max = \",max(t))\n",
    "print(\"min =\",min(t))\n",
    "print(sorted(t))\n",
    "print(t)"
   ]
  },
  {
   "cell_type": "code",
   "execution_count": null,
   "id": "d1b4fb80",
   "metadata": {},
   "outputs": [],
   "source": [
    "x = (1,2,3),\n",
    "    (4,5,6),\n",
    "    (7,8,9))"
   ]
  },
  {
   "cell_type": "code",
   "execution_count": 18,
   "id": "74bf1dfe",
   "metadata": {},
   "outputs": [
    {
     "name": "stdout",
     "output_type": "stream",
     "text": [
      "Enter n = 2\n",
      "Enter name = Ram\n",
      "Enter age = 24\n",
      "Enter add = Kathmandu\n",
      "Enter name = Shyam\n",
      "Enter age = 30\n",
      "Enter add = lalitpur\n",
      "(('Ram', 24, 'Kathmandu'), ('Shyam', 30, 'lalitpur'))\n"
     ]
    }
   ],
   "source": [
    "t = ()\n",
    "n = int(input(\"Enter n = \"))\n",
    "for i in range(n):\n",
    "    name = input(\"Enter name = \")\n",
    "    age = int(input(\"Enter age = \"))\n",
    "    add = input(\"Enter add = \")\n",
    "    t = t+((name,age,add),)\n",
    "    \n",
    "print(t)\n",
    "    "
   ]
  },
  {
   "cell_type": "code",
   "execution_count": 19,
   "id": "4b14d04d",
   "metadata": {},
   "outputs": [
    {
     "data": {
      "text/plain": [
       "[('Ram', 24, 'Kathmandu'), ('Shyam', 30, 'lalitpur')]"
      ]
     },
     "execution_count": 19,
     "metadata": {},
     "output_type": "execute_result"
    }
   ],
   "source": [
    "y = list(t)\n",
    "y"
   ]
  },
  {
   "cell_type": "code",
   "execution_count": 21,
   "id": "8d0e8c3f",
   "metadata": {},
   "outputs": [],
   "source": [
    "#tuple inside list\n",
    "a = [('Ram', 24, 'Kathmandu'), ('Shyam', 30, 'lalitpur')]"
   ]
  },
  {
   "cell_type": "code",
   "execution_count": 4,
   "id": "302577d6",
   "metadata": {},
   "outputs": [
    {
     "name": "stdout",
     "output_type": "stream",
     "text": [
      "[('Ram', 24, 'Kathmandu'), ('Shyam', 30, 'lalitpur'), ('shyama', 24, 'lalitpur')]\n"
     ]
    }
   ],
   "source": [
    "a = [('Ram', 24, 'Kathmandu'), ('Shyam', 30, 'lalitpur')]\n",
    "a.append(('shyama', 24, 'lalitpur'))\n",
    "print(a)"
   ]
  },
  {
   "cell_type": "code",
   "execution_count": 5,
   "id": "b7355873",
   "metadata": {},
   "outputs": [
    {
     "ename": "TypeError",
     "evalue": "'tuple' object does not support item assignment",
     "output_type": "error",
     "traceback": [
      "\u001b[1;31m---------------------------------------------------------------------------\u001b[0m",
      "\u001b[1;31mTypeError\u001b[0m                                 Traceback (most recent call last)",
      "Input \u001b[1;32mIn [5]\u001b[0m, in \u001b[0;36m<cell line: 1>\u001b[1;34m()\u001b[0m\n\u001b[1;32m----> 1\u001b[0m a[\u001b[38;5;241m0\u001b[39m][\u001b[38;5;241m0\u001b[39m] \u001b[38;5;241m=\u001b[39m \u001b[38;5;124m\"\u001b[39m\u001b[38;5;124mRam\u001b[39m\u001b[38;5;124m\"\u001b[39m\n",
      "\u001b[1;31mTypeError\u001b[0m: 'tuple' object does not support item assignment"
     ]
    }
   ],
   "source": [
    "a[0][0] = \"Ram\""
   ]
  },
  {
   "cell_type": "code",
   "execution_count": 8,
   "id": "544741f4",
   "metadata": {},
   "outputs": [
    {
     "name": "stdout",
     "output_type": "stream",
     "text": [
      "[['Ram', 67, 'kathmandu'], ['shyam', 34, 'Bhaktapur']]\n"
     ]
    }
   ],
   "source": [
    "a = (('Ram',67, 'kathmandu'),('shyam', 34, 'Bhaktapur'))\n",
    "l = []\n",
    "for i in a:\n",
    "    l.append(list(i))\n",
    "print(l)"
   ]
  },
  {
   "cell_type": "code",
   "execution_count": 10,
   "id": "2691fefe",
   "metadata": {},
   "outputs": [
    {
     "name": "stdout",
     "output_type": "stream",
     "text": [
      "(('Ram', 67, 'kathmandu'), ('shyam', 34, 'Bhaktapur'))\n"
     ]
    }
   ],
   "source": [
    "a = [['Ram',67, 'kathmandu'],['shyam', 34, 'Bhaktapur']]\n",
    "l = ()\n",
    "for i in a:\n",
    "    l = l+(tuple(i),)\n",
    "print(l)"
   ]
  },
  {
   "cell_type": "code",
   "execution_count": null,
   "id": "f039b6b6",
   "metadata": {},
   "outputs": [],
   "source": [
    "#r = ?\n",
    "#c = ?\n",
    "#input x = ?\n",
    "#matrix = [[1,2,3],\n",
    "         [4,5,6],\n",
    "         [7,8,9]]\n",
    "\n",
    "#matrix = ((1,2,3),\n",
    "         (4,5,6),\n",
    "         (7,8,9))\n",
    "\n",
    "#Assignment "
   ]
  }
 ],
 "metadata": {
  "kernelspec": {
   "display_name": "Python 3 (ipykernel)",
   "language": "python",
   "name": "python3"
  },
  "language_info": {
   "codemirror_mode": {
    "name": "ipython",
    "version": 3
   },
   "file_extension": ".py",
   "mimetype": "text/x-python",
   "name": "python",
   "nbconvert_exporter": "python",
   "pygments_lexer": "ipython3",
   "version": "3.9.12"
  }
 },
 "nbformat": 4,
 "nbformat_minor": 5
}
