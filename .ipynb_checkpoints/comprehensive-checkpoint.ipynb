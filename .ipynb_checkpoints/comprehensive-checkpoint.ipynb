{
 "cells": [
  {
   "cell_type": "code",
   "execution_count": null,
   "id": "14a781ad",
   "metadata": {},
   "outputs": [],
   "source": [
    "# comprehensions: list, Dictionary"
   ]
  },
  {
   "cell_type": "code",
   "execution_count": 1,
   "id": "58a7aafc",
   "metadata": {},
   "outputs": [
    {
     "data": {
      "text/plain": [
       "[0, 1, 2, 3, 4]"
      ]
     },
     "execution_count": 1,
     "metadata": {},
     "output_type": "execute_result"
    }
   ],
   "source": [
    "data = [i for i in range (5)]\n",
    "data"
   ]
  },
  {
   "cell_type": "code",
   "execution_count": 2,
   "id": "f936e63c",
   "metadata": {},
   "outputs": [
    {
     "name": "stdout",
     "output_type": "stream",
     "text": [
      "Enter value = 4\n",
      "Enter value = 3\n",
      "Enter value = 5\n",
      "Enter value = 3\n",
      "Enter value = 2\n"
     ]
    },
    {
     "data": {
      "text/plain": [
       "[4, 3, 5, 3, 2]"
      ]
     },
     "execution_count": 2,
     "metadata": {},
     "output_type": "execute_result"
    }
   ],
   "source": [
    "data = [int(input(\"Enter value = \")) for i in range (5)]\n",
    "data"
   ]
  },
  {
   "cell_type": "code",
   "execution_count": 3,
   "id": "ac4cc3ec",
   "metadata": {},
   "outputs": [
    {
     "name": "stdout",
     "output_type": "stream",
     "text": [
      "Enter value = Apple\n",
      "Enter value = Ball\n",
      "Enter value = cat\n",
      "Enter value = Dog\n",
      "Enter value = fish\n"
     ]
    },
    {
     "data": {
      "text/plain": [
       "['Apple', 'Ball', 'cat', 'Dog', 'fish']"
      ]
     },
     "execution_count": 3,
     "metadata": {},
     "output_type": "execute_result"
    }
   ],
   "source": [
    "data = [input(\"Enter value = \") for i in range (5)]\n",
    "data"
   ]
  },
  {
   "cell_type": "code",
   "execution_count": 4,
   "id": "40b73869",
   "metadata": {},
   "outputs": [
    {
     "data": {
      "text/plain": [
       "[2, 4, 6, 2, 0, 6]"
      ]
     },
     "execution_count": 4,
     "metadata": {},
     "output_type": "execute_result"
    }
   ],
   "source": [
    "l = [2,4,5,6,2,7,9,0,1,3,6]\n",
    "data = [i for i in l if i%2==0]\n",
    "data"
   ]
  },
  {
   "cell_type": "code",
   "execution_count": 5,
   "id": "0fb3dbfd",
   "metadata": {},
   "outputs": [
    {
     "data": {
      "text/plain": [
       "['Apple', 'Ball', 'Bus']"
      ]
     },
     "execution_count": 5,
     "metadata": {},
     "output_type": "execute_result"
    }
   ],
   "source": [
    "l = ['Apple','Ball','cat','Bus','fish']\n",
    "data = [i for i in l if i[0].isupper()]\n",
    "data"
   ]
  },
  {
   "cell_type": "code",
   "execution_count": 6,
   "id": "d1b43d51",
   "metadata": {},
   "outputs": [
    {
     "data": {
      "text/plain": [
       "{1: 1, 2: 4, 3: 9, 4: 16, 5: 25}"
      ]
     },
     "execution_count": 6,
     "metadata": {},
     "output_type": "execute_result"
    }
   ],
   "source": [
    "d = {i:i**2 for i in range (1,6)}\n",
    "d"
   ]
  },
  {
   "cell_type": "code",
   "execution_count": 7,
   "id": "bfbce6c6",
   "metadata": {},
   "outputs": [
    {
     "data": {
      "text/plain": [
       "{'Apple': 'apple', 'Ball': 'ball', 'cat': 'cat', 'Bus': 'bus', 'Fish': 'fish'}"
      ]
     },
     "execution_count": 7,
     "metadata": {},
     "output_type": "execute_result"
    }
   ],
   "source": [
    "l = ['Apple','Ball','cat','Bus','Fish']\n",
    "d = {i:i.lower()for i in l}\n",
    "d"
   ]
  },
  {
   "cell_type": "code",
   "execution_count": 8,
   "id": "4a45cb9b",
   "metadata": {},
   "outputs": [
    {
     "name": "stdout",
     "output_type": "stream",
     "text": [
      "Enter name =Ram\n",
      "Enter phone = 986754321\n",
      "Enter name =Shyam\n",
      "Enter phone = 980876567\n"
     ]
    },
    {
     "data": {
      "text/plain": [
       "{'Ram': 986754321, 'Shyam': 980876567}"
      ]
     },
     "execution_count": 8,
     "metadata": {},
     "output_type": "execute_result"
    }
   ],
   "source": [
    "d = {input(\"Enter name =\"):int(input(\"Enter phone = \")) for i in range (2)}\n",
    "d"
   ]
  },
  {
   "cell_type": "code",
   "execution_count": 9,
   "id": "781350f0",
   "metadata": {},
   "outputs": [
    {
     "name": "stdout",
     "output_type": "stream",
     "text": [
      "2022-10-19 07:54:37.952008\n"
     ]
    }
   ],
   "source": [
    "import datetime\n",
    "x = datetime.datetime.now()\n",
    "print(x)"
   ]
  },
  {
   "cell_type": "code",
   "execution_count": 10,
   "id": "ee1e031b",
   "metadata": {},
   "outputs": [
    {
     "name": "stdout",
     "output_type": "stream",
     "text": [
      "Enter name =Nista\n",
      "0:00:12.573388\n"
     ]
    }
   ],
   "source": [
    "import datetime\n",
    "\n",
    "x = datetime.datetime.now()\n",
    "name = input(\"Enter name =\")\n",
    "y = datetime.datetime.now()\n",
    "print(y-x)"
   ]
  },
  {
   "cell_type": "code",
   "execution_count": 11,
   "id": "27702921",
   "metadata": {},
   "outputs": [
    {
     "name": "stdout",
     "output_type": "stream",
     "text": [
      "Wed Oct 19 07:55:25 2022\n"
     ]
    }
   ],
   "source": [
    "import datetime\n",
    "\n",
    "x = datetime.datetime.now()\n",
    "\n",
    "print(x.strftime(\"%c\"))"
   ]
  },
  {
   "cell_type": "code",
   "execution_count": 12,
   "id": "ba6dcdb6",
   "metadata": {},
   "outputs": [
    {
     "name": "stdout",
     "output_type": "stream",
     "text": [
      "Wed Oct 19 07:56:03 2022\n"
     ]
    }
   ],
   "source": [
    "import datetime\n",
    "\n",
    "x = datetime.datetime.now()\n",
    "\n",
    "print(x.strftime(\"%c\"))"
   ]
  },
  {
   "cell_type": "code",
   "execution_count": 14,
   "id": "cfd0632b",
   "metadata": {},
   "outputs": [
    {
     "data": {
      "text/plain": [
       "['.ipynb_checkpoints',\n",
       " 'Assignment.ipynb',\n",
       " 'bill.csv',\n",
       " 'bill.text',\n",
       " 'comprehensive.ipynb',\n",
       " 'data.csv',\n",
       " 'data.text',\n",
       " 'data.txt',\n",
       " 'Day 19_python_python+mysql.ipynb',\n",
       " 'day 3.ipynb',\n",
       " 'Day 4,5,6 Loop.ipynb',\n",
       " 'Dictionary.ipynb',\n",
       " 'FILE.ipynb',\n",
       " 'FUNCTION.ipynb',\n",
       " 'Inheritance.ipynb',\n",
       " 'LIST.ipynb',\n",
       " 'new_data.csv',\n",
       " 'new_data1.csv',\n",
       " 'PANDAS.ipynb',\n",
       " 'Python OOP day 21 .ipynb',\n",
       " 'SET.ipynb',\n",
       " 'STRING .ipynb',\n",
       " 'Tuple and Set.ipynb',\n",
       " 'Untitled1.ipynb']"
      ]
     },
     "execution_count": 14,
     "metadata": {},
     "output_type": "execute_result"
    }
   ],
   "source": [
    "import os \n",
    "os.listdir()"
   ]
  },
  {
   "cell_type": "code",
   "execution_count": 15,
   "id": "b6168a7a",
   "metadata": {},
   "outputs": [
    {
     "data": {
      "text/plain": [
       "['.ipynb_checkpoints',\n",
       " 'Assignment.ipynb',\n",
       " 'bill.text',\n",
       " 'comprehensive.ipynb',\n",
       " 'data.csv',\n",
       " 'data.text',\n",
       " 'data.txt',\n",
       " 'Day 19_python_python+mysql.ipynb',\n",
       " 'day 3.ipynb',\n",
       " 'Day 4,5,6 Loop.ipynb',\n",
       " 'Dictionary.ipynb',\n",
       " 'FILE.ipynb',\n",
       " 'FUNCTION.ipynb',\n",
       " 'Inheritance.ipynb',\n",
       " 'LIST.ipynb',\n",
       " 'new_data.csv',\n",
       " 'new_data1.csv',\n",
       " 'PANDAS.ipynb',\n",
       " 'Python OOP day 21 .ipynb',\n",
       " 'SET.ipynb',\n",
       " 'STRING .ipynb',\n",
       " 'Tuple and Set.ipynb',\n",
       " 'Untitled1.ipynb']"
      ]
     },
     "execution_count": 15,
     "metadata": {},
     "output_type": "execute_result"
    }
   ],
   "source": [
    "os.remove('bill.csv')\n",
    "os.listdir()"
   ]
  },
  {
   "cell_type": "code",
   "execution_count": 16,
   "id": "2bce53c5",
   "metadata": {},
   "outputs": [
    {
     "data": {
      "text/plain": [
       "['.ipynb_checkpoints',\n",
       " 'Assignment.ipynb',\n",
       " 'bill.text',\n",
       " 'comprehensive.ipynb',\n",
       " 'data.csv',\n",
       " 'data.text',\n",
       " 'data.txt',\n",
       " 'Day 19_python_python+mysql.ipynb',\n",
       " 'day 3.ipynb',\n",
       " 'Day 4,5,6 Loop.ipynb',\n",
       " 'Dictionary.ipynb',\n",
       " 'FILE.ipynb',\n",
       " 'FUNCTION.ipynb',\n",
       " 'Inheritance.ipynb',\n",
       " 'LIST.ipynb',\n",
       " 'newFolder',\n",
       " 'new_data.csv',\n",
       " 'new_data1.csv',\n",
       " 'PANDAS.ipynb',\n",
       " 'Python OOP day 21 .ipynb',\n",
       " 'SET.ipynb',\n",
       " 'STRING .ipynb',\n",
       " 'Tuple and Set.ipynb',\n",
       " 'Untitled1.ipynb']"
      ]
     },
     "execution_count": 16,
     "metadata": {},
     "output_type": "execute_result"
    }
   ],
   "source": [
    "os.mkdir('newFolder')\n",
    "os.listdir()"
   ]
  }
 ],
 "metadata": {
  "kernelspec": {
   "display_name": "Python 3 (ipykernel)",
   "language": "python",
   "name": "python3"
  },
  "language_info": {
   "codemirror_mode": {
    "name": "ipython",
    "version": 3
   },
   "file_extension": ".py",
   "mimetype": "text/x-python",
   "name": "python",
   "nbconvert_exporter": "python",
   "pygments_lexer": "ipython3",
   "version": "3.9.12"
  }
 },
 "nbformat": 4,
 "nbformat_minor": 5
}
