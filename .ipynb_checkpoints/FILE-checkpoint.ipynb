{
 "cells": [
  {
   "cell_type": "code",
   "execution_count": null,
   "id": "f47f509f",
   "metadata": {},
   "outputs": [],
   "source": [
    "#file = open('<file_name>','<mode>')\n",
    "#file.close()\n",
    "\n",
    "\n",
    "#with open ('<file_name>','<mode>') as file:\n",
    " #   <opeeration>"
   ]
  },
  {
   "cell_type": "code",
   "execution_count": null,
   "id": "c333a03b",
   "metadata": {},
   "outputs": [],
   "source": [
    "# modes\n",
    "# r ->read\n",
    "# x->create\n",
    "# w ->write\n",
    "# a -> append"
   ]
  },
  {
   "cell_type": "code",
   "execution_count": 3,
   "id": "78814ab0",
   "metadata": {},
   "outputs": [
    {
     "ename": "FileExistsError",
     "evalue": "[Errno 17] File exists: 'data.text'",
     "output_type": "error",
     "traceback": [
      "\u001b[1;31m---------------------------------------------------------------------------\u001b[0m",
      "\u001b[1;31mFileExistsError\u001b[0m                           Traceback (most recent call last)",
      "Input \u001b[1;32mIn [3]\u001b[0m, in \u001b[0;36m<cell line: 1>\u001b[1;34m()\u001b[0m\n\u001b[1;32m----> 1\u001b[0m file \u001b[38;5;241m=\u001b[39m \u001b[38;5;28;43mopen\u001b[39;49m\u001b[43m(\u001b[49m\u001b[38;5;124;43m'\u001b[39;49m\u001b[38;5;124;43mdata.text\u001b[39;49m\u001b[38;5;124;43m'\u001b[39;49m\u001b[43m,\u001b[49m\u001b[38;5;124;43m'\u001b[39;49m\u001b[38;5;124;43mx\u001b[39;49m\u001b[38;5;124;43m'\u001b[39;49m\u001b[43m)\u001b[49m\n\u001b[0;32m      2\u001b[0m file\u001b[38;5;241m.\u001b[39mclose()\n",
      "\u001b[1;31mFileExistsError\u001b[0m: [Errno 17] File exists: 'data.text'"
     ]
    }
   ],
   "source": [
    "file = open('data.text','x')\n",
    "file.close()"
   ]
  },
  {
   "cell_type": "code",
   "execution_count": 4,
   "id": "784bb958",
   "metadata": {},
   "outputs": [
    {
     "name": "stdout",
     "output_type": "stream",
     "text": [
      "File exists: 'data.text'\n"
     ]
    }
   ],
   "source": [
    "try:\n",
    "    file = open('data.text','x')\n",
    "    file.close()\n",
    "except:\n",
    "    print(\"File exists: 'data.text'\")"
   ]
  },
  {
   "cell_type": "code",
   "execution_count": 7,
   "id": "0fba4440",
   "metadata": {},
   "outputs": [
    {
     "name": "stdout",
     "output_type": "stream",
     "text": [
      "1.Hello world\n",
      "2.Hello world\n",
      "3.Hello world\n",
      "4.Hello world\n",
      "5.Hello world\n",
      "6.Hello world\n"
     ]
    }
   ],
   "source": [
    "file = open('data.text','r')\n",
    "x = file.read()\n",
    "print(x)\n",
    "file.close()"
   ]
  },
  {
   "cell_type": "code",
   "execution_count": 9,
   "id": "51cae75f",
   "metadata": {},
   "outputs": [
    {
     "name": "stdout",
     "output_type": "stream",
     "text": [
      "<class 'str'>\n",
      "1.Hello world\n",
      "2.Hello world\n",
      "3.Hello world\n",
      "4.Hello world\n",
      "5.Hello world\n",
      "6.Hello world\n"
     ]
    }
   ],
   "source": [
    "file = open('data.text','r')\n",
    "x = file.read()\n",
    "print(type(x))\n",
    "print(x)\n",
    "file.close()"
   ]
  },
  {
   "cell_type": "code",
   "execution_count": 10,
   "id": "024f80d5",
   "metadata": {},
   "outputs": [
    {
     "name": "stdout",
     "output_type": "stream",
     "text": [
      "['1.Hello world', '2.Hello world', '3.Hello world', '4.Hello world', '5.Hello world', '6.Hello world']\n",
      "<class 'str'>\n",
      "1.Hello world\n",
      "2.Hello world\n",
      "3.Hello world\n",
      "4.Hello world\n",
      "5.Hello world\n",
      "6.Hello world\n"
     ]
    }
   ],
   "source": [
    "file = open('data.text','r')\n",
    "x = file.read()\n",
    "print(x.split('\\n'))\n",
    "print(type(x))\n",
    "print(x)\n",
    "file.close()"
   ]
  },
  {
   "cell_type": "code",
   "execution_count": 13,
   "id": "a0e5d1f1",
   "metadata": {},
   "outputs": [
    {
     "name": "stdout",
     "output_type": "stream",
     "text": [
      "['1.Apple 300 3 300', '2.Banana 100 2 200']\n",
      "<class 'str'>\n",
      "1.Apple 300 3 300\n",
      "2.Banana 100 2 200\n"
     ]
    }
   ],
   "source": [
    "file = open('data.text','r')\n",
    "x = file.read()\n",
    "print(x.split('\\n'))\n",
    "print(type(x))\n",
    "print(x)\n",
    "file.close()"
   ]
  },
  {
   "cell_type": "code",
   "execution_count": 14,
   "id": "1a6983ae",
   "metadata": {},
   "outputs": [
    {
     "data": {
      "text/plain": [
       "[['1.Apple', '300', '3', '300'], ['2.Banana', '100', '2', '200']]"
      ]
     },
     "execution_count": 14,
     "metadata": {},
     "output_type": "execute_result"
    }
   ],
   "source": [
    "all_data = []\n",
    "file = open('data.text','r')\n",
    "x = file.read().split('\\n')\n",
    "for i in x:\n",
    "      all_data.append(i.split())\n",
    "file.close()\n",
    "all_data"
   ]
  },
  {
   "cell_type": "code",
   "execution_count": 15,
   "id": "6a7fcab7",
   "metadata": {},
   "outputs": [
    {
     "data": {
      "text/plain": [
       "[['1.Apple', '300', '3', '300'], ['2.Banana', '100', '2', '200']]"
      ]
     },
     "execution_count": 15,
     "metadata": {},
     "output_type": "execute_result"
    }
   ],
   "source": [
    "all_data = []\n",
    "file = open('data.text','r')\n",
    "x = file.read().split('\\n')\n",
    "for i in x:\n",
    "    y = i.split()\n",
    "    y[1] = int(y[1])\n",
    "    y[2] = int(y[2])\n",
    "    y[3] = int(y[3])\n",
    "    all_data.append(i.split())\n",
    "file.close()\n",
    "all_data"
   ]
  },
  {
   "cell_type": "code",
   "execution_count": 19,
   "id": "734fdfd3",
   "metadata": {},
   "outputs": [],
   "source": [
    "with open('data.txt','w')as file:\n",
    "    file.write('Hello world')"
   ]
  },
  {
   "cell_type": "code",
   "execution_count": 22,
   "id": "26853221",
   "metadata": {},
   "outputs": [
    {
     "name": "stdout",
     "output_type": "stream",
     "text": [
      "Enter n =2\n",
      "Enter name = Apple\n",
      "Enter product price = 400\n",
      "Enter quantity = 10\n",
      "Enter name = Banana\n",
      "Enter product price = 200\n",
      "Enter quantity = 12\n",
      "Apple 400 10 4000\n",
      "Banana 200 12 2400\n",
      "\n"
     ]
    }
   ],
   "source": [
    "s = str()\n",
    "all_total = 0\n",
    "i = 0\n",
    "n = int(input(\"Enter n =\"))\n",
    "while i<n:\n",
    "    product = input(\"Enter name = \")\n",
    "    price = int(input(\"Enter product price = \"))\n",
    "    quantity = int(input(\"Enter quantity = \"))\n",
    "    total = price*quantity\n",
    "    all_total = all_total+total\n",
    "    s= s+f\"{product} {price} {quantity} {total}\\n\"\n",
    "    i = i+1\n",
    "print(s)\n",
    "\n",
    "with open('bill.text','w') as file:\n",
    "    file.write(s)"
   ]
  },
  {
   "cell_type": "code",
   "execution_count": 25,
   "id": "fdd3165b",
   "metadata": {},
   "outputs": [
    {
     "name": "stdout",
     "output_type": "stream",
     "text": [
      "Enter n =2\n",
      "Enter name = Ram\n",
      "Enter product price = 300\n",
      "Enter quantity = 20\n",
      "Enter name = shyam\n",
      "Enter product price = 400\n",
      "Enter quantity = 10\n",
      "Ram, 300, 20, 6000\n",
      "shyam, 400, 10, 4000\n",
      "\n"
     ]
    }
   ],
   "source": [
    "s = str()\n",
    "all_total = 0\n",
    "i = 0\n",
    "n = int(input(\"Enter n =\"))\n",
    "while i<n:\n",
    "    product = input(\"Enter name = \")\n",
    "    price = int(input(\"Enter product price = \"))\n",
    "    quantity = int(input(\"Enter quantity = \"))\n",
    "    total = price*quantity\n",
    "    all_total = all_total+total\n",
    "    s= s+f\"{product}, {price}, {quantity}, {total}\\n\"\n",
    "    i = i+1\n",
    "print(s)\n",
    "\n",
    "with open('bill.csv','w') as file:\n",
    "    file.write('Name,price,quantity,total\\n')\n",
    "    file.write(s)"
   ]
  },
  {
   "cell_type": "code",
   "execution_count": 27,
   "id": "03b718a2",
   "metadata": {},
   "outputs": [
    {
     "data": {
      "text/html": [
       "<div>\n",
       "<style scoped>\n",
       "    .dataframe tbody tr th:only-of-type {\n",
       "        vertical-align: middle;\n",
       "    }\n",
       "\n",
       "    .dataframe tbody tr th {\n",
       "        vertical-align: top;\n",
       "    }\n",
       "\n",
       "    .dataframe thead th {\n",
       "        text-align: right;\n",
       "    }\n",
       "</style>\n",
       "<table border=\"1\" class=\"dataframe\">\n",
       "  <thead>\n",
       "    <tr style=\"text-align: right;\">\n",
       "      <th></th>\n",
       "      <th>Name</th>\n",
       "      <th>price</th>\n",
       "      <th>quantity</th>\n",
       "      <th>total</th>\n",
       "    </tr>\n",
       "  </thead>\n",
       "  <tbody>\n",
       "    <tr>\n",
       "      <th>0</th>\n",
       "      <td>Ram</td>\n",
       "      <td>300</td>\n",
       "      <td>20</td>\n",
       "      <td>6000</td>\n",
       "    </tr>\n",
       "    <tr>\n",
       "      <th>1</th>\n",
       "      <td>shyam</td>\n",
       "      <td>400</td>\n",
       "      <td>10</td>\n",
       "      <td>4000</td>\n",
       "    </tr>\n",
       "  </tbody>\n",
       "</table>\n",
       "</div>"
      ],
      "text/plain": [
       "    Name  price  quantity  total\n",
       "0    Ram    300        20   6000\n",
       "1  shyam    400        10   4000"
      ]
     },
     "execution_count": 27,
     "metadata": {},
     "output_type": "execute_result"
    }
   ],
   "source": [
    "import pandas as pd\n",
    "df = pd.read_csv('bill.csv')\n",
    "df"
   ]
  },
  {
   "cell_type": "code",
   "execution_count": 24,
   "id": "a0079beb",
   "metadata": {},
   "outputs": [
    {
     "data": {
      "text/plain": [
       "'C:\\\\Users\\\\nista\\\\python class'"
      ]
     },
     "execution_count": 24,
     "metadata": {},
     "output_type": "execute_result"
    }
   ],
   "source": [
    "pwd"
   ]
  },
  {
   "cell_type": "code",
   "execution_count": null,
   "id": "29e4e780",
   "metadata": {},
   "outputs": [],
   "source": []
  },
  {
   "cell_type": "code",
   "execution_count": null,
   "id": "805b13bc",
   "metadata": {},
   "outputs": [],
   "source": []
  }
 ],
 "metadata": {
  "kernelspec": {
   "display_name": "Python 3 (ipykernel)",
   "language": "python",
   "name": "python3"
  },
  "language_info": {
   "codemirror_mode": {
    "name": "ipython",
    "version": 3
   },
   "file_extension": ".py",
   "mimetype": "text/x-python",
   "name": "python",
   "nbconvert_exporter": "python",
   "pygments_lexer": "ipython3",
   "version": "3.9.12"
  }
 },
 "nbformat": 4,
 "nbformat_minor": 5
}
