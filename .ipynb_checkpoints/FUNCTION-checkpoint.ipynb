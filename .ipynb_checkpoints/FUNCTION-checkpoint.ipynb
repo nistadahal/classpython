{
 "cells": [
  {
   "cell_type": "code",
   "execution_count": null,
   "id": "9cf30e83",
   "metadata": {},
   "outputs": [],
   "source": [
    "# Pre defined \n",
    "#input() int() str() print() list() tuple() dict()"
   ]
  },
  {
   "cell_type": "code",
   "execution_count": null,
   "id": "8b02a087",
   "metadata": {},
   "outputs": [],
   "source": [
    "# define <function_name():\n",
    "#     <operations>\n",
    "\n",
    "# <function_name>()"
   ]
  },
  {
   "cell_type": "code",
   "execution_count": 1,
   "id": "d3887d36",
   "metadata": {},
   "outputs": [
    {
     "name": "stdout",
     "output_type": "stream",
     "text": [
      "Hello world\n"
     ]
    }
   ],
   "source": [
    "def hello():\n",
    "    print(\"Hello world\")\n",
    "\n",
    "hello()"
   ]
  },
  {
   "cell_type": "code",
   "execution_count": 3,
   "id": "70130ed6",
   "metadata": {},
   "outputs": [
    {
     "name": "stdout",
     "output_type": "stream",
     "text": [
      "Enter l = 100\n",
      "Enter b = 43\n",
      "Enter h =4\n",
      "4300\n",
      "17200\n"
     ]
    }
   ],
   "source": [
    "def cal():\n",
    "    l = int(input(\"Enter l = \"))   #local variable\n",
    "    b = int(input(\"Enter b = \"))   # local variable \n",
    "    h = int(input(\"Enter h =\"))    #local varibale\n",
    "    a = l*b\n",
    "    v = a*h\n",
    "    print(a)\n",
    "    print(v)\n",
    "\n",
    "cal()"
   ]
  },
  {
   "cell_type": "code",
   "execution_count": 4,
   "id": "c23d2da3",
   "metadata": {},
   "outputs": [
    {
     "name": "stdout",
     "output_type": "stream",
     "text": [
      "Enter l = 100\n",
      "Enter b = 34\n",
      "Enter h =4\n",
      "3400\n",
      "13600\n"
     ]
    }
   ],
   "source": [
    "def cal():\n",
    "    l = int(input(\"Enter l = \"))   #global variable\n",
    "    b = int(input(\"Enter b = \"))   #global variable \n",
    "    h = int(input(\"Enter h =\"))    #global varibale\n",
    "    a = l*b\n",
    "    v = a*h\n",
    "    print(a)\n",
    "    print(v)\n",
    "\n",
    "cal()"
   ]
  },
  {
   "cell_type": "code",
   "execution_count": 5,
   "id": "efd9c037",
   "metadata": {},
   "outputs": [
    {
     "name": "stdout",
     "output_type": "stream",
     "text": [
      "Enter l = 100\n",
      "Enter b = 2\n",
      "Enter h =3\n",
      "200\n",
      "600\n"
     ]
    }
   ],
   "source": [
    "def cal():\n",
    "    l = int(input(\"Enter l = \"))   #global variable\n",
    "    b = int(input(\"Enter b = \"))   #global variable \n",
    "    h = int(input(\"Enter h =\"))    #global varibale\n",
    "    a = l*b\n",
    "    v = a*h\n",
    "    print(a)\n",
    "    print(v)\n",
    "\n",
    "cal()"
   ]
  },
  {
   "cell_type": "code",
   "execution_count": null,
   "id": "272a8857",
   "metadata": {},
   "outputs": [],
   "source": [
    "def cal():\n",
    "    l = int(input(\"Enter l = \"))   #global variable\n",
    "    b = int(input(\"Enter b = \"))   #global variable \n",
    "    h = int(input(\"Enter h =\"))   #global varibale\n",
    "    \n",
    "    a = l*b\n",
    "    v = a*h\n",
    "    print(a)\n",
    "    print(v)\n",
    "\n",
    "cal()"
   ]
  },
  {
   "cell_type": "code",
   "execution_count": null,
   "id": "c9bce965",
   "metadata": {},
   "outputs": [],
   "source": [
    "# function without argument and without return type \n",
    "# function with argument and without return type\n",
    "# funtion without arguement and return type\n",
    "# function with argument and return type "
   ]
  },
  {
   "cell_type": "code",
   "execution_count": 6,
   "id": "4ee9032a",
   "metadata": {},
   "outputs": [
    {
     "name": "stdout",
     "output_type": "stream",
     "text": [
      "Hello World\n"
     ]
    }
   ],
   "source": [
    "def hello(x):     #parameter\n",
    "    print(x)\n",
    "\n",
    "hello(\"Hello World\")   #argument"
   ]
  },
  {
   "cell_type": "code",
   "execution_count": null,
   "id": "40660b54",
   "metadata": {},
   "outputs": [],
   "source": [
    "def cal(l,b,h):\n",
    "    a = l*b\n",
    "    v = a*h\n",
    "    print(v)\n",
    "    print(a)\n",
    "    \n",
    "l = int(input(\"Enter l = \"))     #local varibale\n",
    "b = int(input(\"Enter b = \"))     #local variable\n",
    "h = int(input(\"Enter h = \"))     #local variable\n",
    "cal(l,b,h)"
   ]
  },
  {
   "cell_type": "code",
   "execution_count": null,
   "id": "7388e966",
   "metadata": {},
   "outputs": [],
   "source": [
    "def cal(y):\n",
    "    l,b,h = y\n",
    "    a = l*b\n",
    "    v = a*h\n",
    "    print(v)\n",
    "    print(a)\n",
    "    \n",
    "l = int(input(\"Enter l = \"))     #local varibale\n",
    "b = int(input(\"Enter b = \"))     #local variable\n",
    "h = int(input(\"Enter h = \"))     #local variable\n",
    "x = [l,b,h]\n",
    "cal(x)"
   ]
  },
  {
   "cell_type": "code",
   "execution_count": 7,
   "id": "b84e54aa",
   "metadata": {},
   "outputs": [
    {
     "name": "stdout",
     "output_type": "stream",
     "text": [
      "c\n",
      "c++\n",
      "java\n",
      "Python\n"
     ]
    }
   ],
   "source": [
    "def lan(language = \"Python\"):\n",
    "    print(language)\n",
    "\n",
    "lan(\"c\")\n",
    "lan(\"c++\")\n",
    "lan(\"java\")\n",
    "lan()"
   ]
  },
  {
   "cell_type": "code",
   "execution_count": 11,
   "id": "76db42dc",
   "metadata": {},
   "outputs": [
    {
     "name": "stdout",
     "output_type": "stream",
     "text": [
      "Hello World\n"
     ]
    }
   ],
   "source": [
    "# function with argument and return type \n",
    "# return type function:\n",
    "\n",
    "def hello():\n",
    "        return \"Hello World\"\n",
    "    \n",
    "print(hello())"
   ]
  },
  {
   "cell_type": "code",
   "execution_count": 12,
   "id": "6acbcdb7",
   "metadata": {},
   "outputs": [
    {
     "name": "stdout",
     "output_type": "stream",
     "text": [
      "Hello World\n"
     ]
    }
   ],
   "source": [
    "# return type function:\n",
    "\n",
    "def hello():\n",
    "        return \"Hello World\"\n",
    "x = hello()    \n",
    "print(x)"
   ]
  },
  {
   "cell_type": "code",
   "execution_count": 14,
   "id": "80e97379",
   "metadata": {},
   "outputs": [
    {
     "name": "stdout",
     "output_type": "stream",
     "text": [
      "Enter l = 100\n",
      "Enter b = 34\n",
      "Enter h = 4\n",
      "13600\n"
     ]
    }
   ],
   "source": [
    "def cal():\n",
    "    l = int(input(\"Enter l = \"))     #local varibale\n",
    "    b = int(input(\"Enter b = \"))     #local variable\n",
    "    a = l*b\n",
    "    return a\n",
    "\n",
    "area = cal()\n",
    "h = int(input(\"Enter h = \"))\n",
    "volume = area*h\n",
    "print(volume)"
   ]
  },
  {
   "cell_type": "code",
   "execution_count": 15,
   "id": "38cc3e42",
   "metadata": {},
   "outputs": [
    {
     "name": "stdout",
     "output_type": "stream",
     "text": [
      "HelloWorld\n"
     ]
    }
   ],
   "source": [
    "#function with return type and argument\n",
    "\n",
    "def hello(a,b):\n",
    "    return a+b\n",
    "        \n",
    "x = hello(\"Hello\",\"World\")    \n",
    "print(x)"
   ]
  },
  {
   "cell_type": "code",
   "execution_count": 16,
   "id": "6eef8407",
   "metadata": {},
   "outputs": [
    {
     "name": "stdout",
     "output_type": "stream",
     "text": [
      "Enter l = 50\n",
      "Enter b = 10\n",
      "Enter h = 5\n",
      "2500\n"
     ]
    }
   ],
   "source": [
    "def cal(x,y):\n",
    "    a = x*y\n",
    "    return a\n",
    "\n",
    "l = int(input(\"Enter l = \"))     #global varibale\n",
    "b = int(input(\"Enter b = \"))     #global variable\n",
    "area = cal(l,b)\n",
    "h = int(input(\"Enter h = \"))\n",
    "volume = area*h\n",
    "print(volume)"
   ]
  },
  {
   "cell_type": "code",
   "execution_count": null,
   "id": "3bce7cb9",
   "metadata": {},
   "outputs": [],
   "source": [
    "#recursive,math,labmda function,filter,map"
   ]
  },
  {
   "cell_type": "code",
   "execution_count": null,
   "id": "760dcd86",
   "metadata": {},
   "outputs": [],
   "source": [
    "#recursive\n",
    "def hello():\n",
    "    print(\"Hello world\")\n",
    "    hello()\n",
    "    \n",
    "hello()"
   ]
  },
  {
   "cell_type": "code",
   "execution_count": 2,
   "id": "06e95fb1",
   "metadata": {},
   "outputs": [
    {
     "name": "stdout",
     "output_type": "stream",
     "text": [
      "Hello World\n",
      "Enter y for more print = y\n",
      "Hello World\n",
      "Enter y for more print = y\n",
      "Hello World\n",
      "Enter y for more print = abcd\n"
     ]
    }
   ],
   "source": [
    "def hello():\n",
    "    print(\"Hello World\")\n",
    "    x = input(\"Enter y for more print = \")\n",
    "    if x =='y':\n",
    "        hello()\n",
    "        \n",
    "        \n",
    "hello()\n",
    "    "
   ]
  },
  {
   "cell_type": "code",
   "execution_count": 3,
   "id": "928d310f",
   "metadata": {},
   "outputs": [
    {
     "name": "stdout",
     "output_type": "stream",
     "text": [
      "Enter p =1000\n",
      "Enter t =3\n",
      "Enter r =4\n",
      "120.0\n",
      "Enter y for more cal1234\n"
     ]
    }
   ],
   "source": [
    "def cal():\n",
    "    p = int(input(\"Enter p =\"))\n",
    "    t = float(input(\"Enter t =\"))\n",
    "    r = float(input(\"Enter r =\"))\n",
    "    i = p*t*r/100\n",
    "    print(i)\n",
    "    x = input(\"Enter y for more cal\")\n",
    "    if x == 'y':\n",
    "        cal()\n",
    "        \n",
    "cal()"
   ]
  },
  {
   "cell_type": "code",
   "execution_count": null,
   "id": "632438c0",
   "metadata": {},
   "outputs": [],
   "source": [
    "#Math Function "
   ]
  },
  {
   "cell_type": "code",
   "execution_count": 4,
   "id": "348855cb",
   "metadata": {},
   "outputs": [
    {
     "data": {
      "text/plain": [
       "120"
      ]
     },
     "execution_count": 4,
     "metadata": {},
     "output_type": "execute_result"
    }
   ],
   "source": [
    "import math as m\n",
    "n = 5\n",
    "m.factorial(n)"
   ]
  },
  {
   "cell_type": "code",
   "execution_count": 6,
   "id": "3ee2960f",
   "metadata": {},
   "outputs": [
    {
     "name": "stdout",
     "output_type": "stream",
     "text": [
      "153.93804002589985\n"
     ]
    }
   ],
   "source": [
    "import math as m\n",
    "r = 7\n",
    "a = m.pi*m.pow(r,2)\n",
    "print(a)\n"
   ]
  },
  {
   "cell_type": "code",
   "execution_count": 7,
   "id": "383794fa",
   "metadata": {},
   "outputs": [
    {
     "data": {
      "text/plain": [
       "0.8939966636005579"
      ]
     },
     "execution_count": 7,
     "metadata": {},
     "output_type": "execute_result"
    }
   ],
   "source": [
    "import math as m\n",
    "m.sin(90)\n"
   ]
  },
  {
   "cell_type": "code",
   "execution_count": 8,
   "id": "d7f629f4",
   "metadata": {},
   "outputs": [
    {
     "data": {
      "text/plain": [
       "1.0"
      ]
     },
     "execution_count": 8,
     "metadata": {},
     "output_type": "execute_result"
    }
   ],
   "source": [
    "import math as m\n",
    "m.sin(m.pi/2)\n"
   ]
  },
  {
   "cell_type": "code",
   "execution_count": null,
   "id": "56612a5a",
   "metadata": {},
   "outputs": [],
   "source": [
    "#Lambda function\n",
    "\n"
   ]
  },
  {
   "cell_type": "code",
   "execution_count": 11,
   "id": "8f34b8dc",
   "metadata": {},
   "outputs": [
    {
     "data": {
      "text/plain": [
       "4"
      ]
     },
     "execution_count": 11,
     "metadata": {},
     "output_type": "execute_result"
    }
   ],
   "source": [
    "x = lambda x:x**2\n",
    "x(2)"
   ]
  },
  {
   "cell_type": "code",
   "execution_count": 12,
   "id": "4fc6dc8d",
   "metadata": {},
   "outputs": [
    {
     "data": {
      "text/plain": [
       "36"
      ]
     },
     "execution_count": 12,
     "metadata": {},
     "output_type": "execute_result"
    }
   ],
   "source": [
    "lambda x:x*4\n",
    "x(6)"
   ]
  },
  {
   "cell_type": "code",
   "execution_count": 13,
   "id": "eb0c2a6f",
   "metadata": {},
   "outputs": [
    {
     "data": {
      "text/plain": [
       "6"
      ]
     },
     "execution_count": 13,
     "metadata": {},
     "output_type": "execute_result"
    }
   ],
   "source": [
    "x = lambda l,b:l*b\n",
    "x(2,3)"
   ]
  },
  {
   "cell_type": "code",
   "execution_count": 16,
   "id": "dd8dbbca",
   "metadata": {},
   "outputs": [
    {
     "data": {
      "text/plain": [
       "[2, 4, 6, 4, 2, 8, 2]"
      ]
     },
     "execution_count": 16,
     "metadata": {},
     "output_type": "execute_result"
    }
   ],
   "source": [
    "y = [1,2,3,4,5,6,3,4,5,2,8,2]\n",
    "list(filter(lambda x:x%2 ==0,y))"
   ]
  },
  {
   "cell_type": "code",
   "execution_count": 17,
   "id": "b06ba4c2",
   "metadata": {},
   "outputs": [
    {
     "data": {
      "text/plain": [
       "(2, 4, 6, 4, 2, 8, 2)"
      ]
     },
     "execution_count": 17,
     "metadata": {},
     "output_type": "execute_result"
    }
   ],
   "source": [
    "y = [1,2,3,4,5,6,3,4,5,2,8,2]\n",
    "tuple(filter(lambda x:x%2 ==0,y))"
   ]
  },
  {
   "cell_type": "code",
   "execution_count": 20,
   "id": "9f982536",
   "metadata": {},
   "outputs": [
    {
     "data": {
      "text/plain": [
       "('Apple', 'Cat', 'Dog')"
      ]
     },
     "execution_count": 20,
     "metadata": {},
     "output_type": "execute_result"
    }
   ],
   "source": [
    "a = ['Apple','ball','Cat','Dog']\n",
    "tuple(filter(lambda x:x[0].isupper(),a))"
   ]
  },
  {
   "cell_type": "code",
   "execution_count": 21,
   "id": "d087d892",
   "metadata": {},
   "outputs": [
    {
     "data": {
      "text/plain": [
       "['Apple', 'Cat', 'Dog']"
      ]
     },
     "execution_count": 21,
     "metadata": {},
     "output_type": "execute_result"
    }
   ],
   "source": [
    "a = ['Apple','ball','Cat','Dog']\n",
    "b = [i for i in a if i[0].isupper()]\n",
    "b"
   ]
  },
  {
   "cell_type": "code",
   "execution_count": null,
   "id": "29ec136e",
   "metadata": {},
   "outputs": [],
   "source": []
  }
 ],
 "metadata": {
  "kernelspec": {
   "display_name": "Python 3 (ipykernel)",
   "language": "python",
   "name": "python3"
  },
  "language_info": {
   "codemirror_mode": {
    "name": "ipython",
    "version": 3
   },
   "file_extension": ".py",
   "mimetype": "text/x-python",
   "name": "python",
   "nbconvert_exporter": "python",
   "pygments_lexer": "ipython3",
   "version": "3.9.12"
  }
 },
 "nbformat": 4,
 "nbformat_minor": 5
}
